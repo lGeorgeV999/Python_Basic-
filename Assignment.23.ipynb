{
 "cells": [
  {
   "cell_type": "markdown",
   "id": "2dcb3f87",
   "metadata": {},
   "source": [
    "### Q1. What is the result of the code, and why?\n",
    "\n",
    "def func(a, b=6, c=8):print(a, b, c)\n",
    "\n",
    "func(1, 2)"
   ]
  },
  {
   "cell_type": "code",
   "execution_count": 2,
   "id": "14240f8c",
   "metadata": {},
   "outputs": [],
   "source": [
    "def func(a, b=6, c=8):\n",
    "    print(a,b,c)"
   ]
  },
  {
   "cell_type": "code",
   "execution_count": 3,
   "id": "e49876a1",
   "metadata": {},
   "outputs": [
    {
     "name": "stdout",
     "output_type": "stream",
     "text": [
      "1 2 8\n"
     ]
    }
   ],
   "source": [
    "func(1,2)"
   ]
  },
  {
   "cell_type": "markdown",
   "id": "8ee7d336",
   "metadata": {},
   "source": [
    "The line func() takes two values, that is 1 and 2 respectively, but the func() is defined to take 3 values, as in func() we pass only two values, the third value comes from the default value, that is c = 8."
   ]
  },
  {
   "cell_type": "markdown",
   "id": "e63e95b8",
   "metadata": {},
   "source": [
    "### Q2. What is the result of this code, and why?\n",
    "\n",
    "def func(a, b, c=5):print(a, b, c)\n",
    "\n",
    "func(1, c=3, b=2)"
   ]
  },
  {
   "cell_type": "code",
   "execution_count": 4,
   "id": "2731b11d",
   "metadata": {},
   "outputs": [],
   "source": [
    "def func(a,b,c = 5):\n",
    "    print(a,b,c)"
   ]
  },
  {
   "cell_type": "code",
   "execution_count": 6,
   "id": "a2c6f615",
   "metadata": {},
   "outputs": [
    {
     "name": "stdout",
     "output_type": "stream",
     "text": [
      "1 2 3\n"
     ]
    }
   ],
   "source": [
    "func(1, c=3,b=2)"
   ]
  },
  {
   "cell_type": "markdown",
   "id": "a9822f72",
   "metadata": {},
   "source": [
    "The line func() takes three values, that is 1 , c= 3 snd b = 2 respectively,the func() is defined to take 3 values, as in func() we pass othree values, the default values gets overwritten, and we get the newly passed values."
   ]
  },
  {
   "cell_type": "markdown",
   "id": "191d618b",
   "metadata": {},
   "source": [
    "### Q3. How about this code: what is its result, and why?\n",
    "\n",
    "def func(a, *pargs):print(a, pargs)\n",
    "\n",
    "func(1, 2, 3)"
   ]
  },
  {
   "cell_type": "code",
   "execution_count": 7,
   "id": "ca77ed00",
   "metadata": {},
   "outputs": [],
   "source": [
    "def func(a, *pargs):\n",
    "    print(a, pargs)"
   ]
  },
  {
   "cell_type": "code",
   "execution_count": 8,
   "id": "b1c47d7d",
   "metadata": {},
   "outputs": [
    {
     "name": "stdout",
     "output_type": "stream",
     "text": [
      "1 (2, 3)\n"
     ]
    }
   ],
   "source": [
    "func(1,2,3)"
   ]
  },
  {
   "cell_type": "markdown",
   "id": "38b0f6be",
   "metadata": {},
   "source": [
    "The special syntax pargs in function definitions in python is used to pass a variable number of arguments to a function. It is used to pass a non-key worded, variable-length argument list. The syntax is to use the symbol to take in a variable number of arguments; by convention, it is often used with the word args.\n",
    "\n",
    "What pargs allows you to do is take in more arguments than the number of formal arguments that you previously defined. With pargs, any number of extra arguments can be tacked on to your current formal parameters (including zero extra arguments)."
   ]
  },
  {
   "cell_type": "markdown",
   "id": "961fb1f0",
   "metadata": {},
   "source": [
    "### Q4. What does this code print, and why?\n",
    "\n",
    "def func(a, **kargs):print(a, kargs)\n",
    "\n",
    "func(a=1, c=3, b=2)\n",
    "\n"
   ]
  },
  {
   "cell_type": "code",
   "execution_count": 9,
   "id": "dd6dd637",
   "metadata": {},
   "outputs": [],
   "source": [
    "def func(a, **kargs):\n",
    "    print(a, kargs)\n"
   ]
  },
  {
   "cell_type": "code",
   "execution_count": 10,
   "id": "b3ea6280",
   "metadata": {},
   "outputs": [
    {
     "name": "stdout",
     "output_type": "stream",
     "text": [
      "1 {'c': 3, 'b': 2}\n"
     ]
    }
   ],
   "source": [
    "func(a=1, c=3, b=2)\n"
   ]
  },
  {
   "cell_type": "markdown",
   "id": "d62185ba",
   "metadata": {},
   "source": [
    "The special syntax **kargs in function definitions in python is used to pass a keyworded, variable-length argument list. We use the name kwargs with the double star. The reason is because the double star allows us to pass through keyword arguments (and any number of them)."
   ]
  },
  {
   "cell_type": "markdown",
   "id": "b2763d2f",
   "metadata": {},
   "source": [
    "### Q5. What gets printed by this, and explain?\n",
    "\n",
    "def func(a, b, c=8, d=5): print(a, b, c, d)\n",
    "\n",
    "func(1, *(5, 6))"
   ]
  },
  {
   "cell_type": "code",
   "execution_count": 13,
   "id": "af53798d",
   "metadata": {},
   "outputs": [],
   "source": [
    "def func(a, b, c=8, d=5): \n",
    "    print(a, b, c, d)\n"
   ]
  },
  {
   "cell_type": "code",
   "execution_count": 14,
   "id": "9ee57e1d",
   "metadata": {},
   "outputs": [
    {
     "name": "stdout",
     "output_type": "stream",
     "text": [
      "1 5 6 5\n"
     ]
    }
   ],
   "source": [
    "func(1, *(5, 6))"
   ]
  },
  {
   "cell_type": "markdown",
   "id": "6f7f52bf",
   "metadata": {},
   "source": [
    "The value 1 is assigned to the first parameter a.\n",
    "The value 5 is assigned to the second parameter b.\n",
    "Since no value is provided for the third parameter c, it takes its default value of 8.\n",
    "Since no value is provided for the fourth parameter d, it takes its default value of 5.\n",
    "The function func() is executed with the assigned parameter values.\n",
    "Inside the function, the print() statement prints the values of a, b, c, and d separated by spaces."
   ]
  },
  {
   "cell_type": "markdown",
   "id": "9724726b",
   "metadata": {},
   "source": [
    "### Q6. what is the result of this, and explain?\n",
    "\n",
    "def func(a, b, c): a = 2; b[0] = 'x'; c['a'] = 'y'\n",
    "\n",
    "l=1; m=[1]; n={'a':0}\n",
    "\n",
    "func(l, m, n)"
   ]
  },
  {
   "cell_type": "code",
   "execution_count": 15,
   "id": "bd14b159",
   "metadata": {},
   "outputs": [],
   "source": [
    "def func(a, b, c):\n",
    "    a = 2\n",
    "    b[0] = 'x'\n",
    "    c['a'] = 'y'\n",
    "\n",
    "l = 1\n",
    "m = [1]\n",
    "n = {'a': 0}"
   ]
  },
  {
   "cell_type": "code",
   "execution_count": 16,
   "id": "d6bf6729",
   "metadata": {},
   "outputs": [],
   "source": [
    "func(l, m, n)"
   ]
  },
  {
   "cell_type": "code",
   "execution_count": null,
   "id": "bd0d7657",
   "metadata": {},
   "outputs": [],
   "source": []
  }
 ],
 "metadata": {
  "kernelspec": {
   "display_name": "Python 3 (ipykernel)",
   "language": "python",
   "name": "python3"
  },
  "language_info": {
   "codemirror_mode": {
    "name": "ipython",
    "version": 3
   },
   "file_extension": ".py",
   "mimetype": "text/x-python",
   "name": "python",
   "nbconvert_exporter": "python",
   "pygments_lexer": "ipython3",
   "version": "3.9.12"
  }
 },
 "nbformat": 4,
 "nbformat_minor": 5
}
