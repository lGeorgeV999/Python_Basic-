{
 "cells": [
  {
   "cell_type": "markdown",
   "id": "ca2f6df5",
   "metadata": {},
   "source": [
    "### Q1. What does an empty dictionary&#39;s code look like?"
   ]
  },
  {
   "cell_type": "markdown",
   "id": "a5fa6452",
   "metadata": {},
   "source": [
    "An empty dictionary's code look like two curly brackets: {}\n",
    "\n"
   ]
  },
  {
   "cell_type": "markdown",
   "id": "f4b9bf2a",
   "metadata": {},
   "source": [
    "### Q2. What is the value of a dictionary value with the key 'foo' and the value 42?"
   ]
  },
  {
   "cell_type": "code",
   "execution_count": 1,
   "id": "29d6a43e",
   "metadata": {},
   "outputs": [],
   "source": [
    "#The value of a dictionary value with the key 'foo' and the value 42 is {'foo': 42}\n",
    "dic = {'foo' : 42}"
   ]
  },
  {
   "cell_type": "markdown",
   "id": "4885433b",
   "metadata": {},
   "source": [
    "### Q3. What is the most significant distinction between a dictionary and a list?"
   ]
  },
  {
   "cell_type": "code",
   "execution_count": 5,
   "id": "03559332",
   "metadata": {},
   "outputs": [],
   "source": [
    "#The items in a list are ordered items, while the items stored in a dictionary are unordered."
   ]
  },
  {
   "cell_type": "markdown",
   "id": "db4d5a11",
   "metadata": {},
   "source": [
    "### Q4. What happens if you try to access spam[&#39;foo&#39;] if spam is {&#39;bar&#39;: 100}?"
   ]
  },
  {
   "cell_type": "code",
   "execution_count": 6,
   "id": "a05c0b3d",
   "metadata": {},
   "outputs": [
    {
     "ename": "KeyError",
     "evalue": "'foo'",
     "output_type": "error",
     "traceback": [
      "\u001b[0;31m---------------------------------------------------------------------------\u001b[0m",
      "\u001b[0;31mKeyError\u001b[0m                                  Traceback (most recent call last)",
      "\u001b[0;32m/var/folders/6q/pjbsx_896cb6xf0794334hkc0000gn/T/ipykernel_78102/414641506.py\u001b[0m in \u001b[0;36m<module>\u001b[0;34m\u001b[0m\n\u001b[1;32m      1\u001b[0m \u001b[0mspam\u001b[0m \u001b[0;34m=\u001b[0m \u001b[0;34m{\u001b[0m\u001b[0;34m'bar'\u001b[0m\u001b[0;34m:\u001b[0m \u001b[0;36m100\u001b[0m\u001b[0;34m}\u001b[0m\u001b[0;34m\u001b[0m\u001b[0;34m\u001b[0m\u001b[0m\n\u001b[0;32m----> 2\u001b[0;31m \u001b[0mspam\u001b[0m\u001b[0;34m[\u001b[0m\u001b[0;34m'foo'\u001b[0m\u001b[0;34m]\u001b[0m\u001b[0;34m\u001b[0m\u001b[0;34m\u001b[0m\u001b[0m\n\u001b[0m",
      "\u001b[0;31mKeyError\u001b[0m: 'foo'"
     ]
    }
   ],
   "source": [
    "spam = {'bar': 100}\n",
    "spam['foo']"
   ]
  },
  {
   "cell_type": "code",
   "execution_count": 7,
   "id": "7c8e9ad0",
   "metadata": {},
   "outputs": [],
   "source": [
    "# we will get a keyerror error."
   ]
  },
  {
   "cell_type": "markdown",
   "id": "d8e658ef",
   "metadata": {},
   "source": [
    "### Q5. If a dictionary is stored in spam, what is the difference between the expressions 'cat' in spam and 'cat' in spam.keys()?"
   ]
  },
  {
   "cell_type": "code",
   "execution_count": 8,
   "id": "7b41791e",
   "metadata": {},
   "outputs": [],
   "source": [
    "#There is no difference. The in operator checks whether a value exists as a key in the dictionary."
   ]
  },
  {
   "cell_type": "markdown",
   "id": "53afe56b",
   "metadata": {},
   "source": [
    "### Q6. If a dictionary is stored in spam, what is the difference between the expressions 'cat' in spam and 'cat' in spam.values()?\n",
    "\n"
   ]
  },
  {
   "cell_type": "code",
   "execution_count": 10,
   "id": "c5db6fb2",
   "metadata": {},
   "outputs": [],
   "source": [
    "#'cat' in spam checks whether there is a 'cat' key in the dictionary, while 'cat' in spam.values()\n",
    "#checks whether there is a value 'cat' for one of the keys in spam."
   ]
  },
  {
   "cell_type": "markdown",
   "id": "4b6f01b2",
   "metadata": {},
   "source": [
    "### Q7. What is a shortcut for the following code?\n",
    "\n",
    "#if 'color' not in spam:\n",
    "\n",
    "#spam['color'] = 'black'\n"
   ]
  },
  {
   "cell_type": "code",
   "execution_count": 11,
   "id": "c6818e4b",
   "metadata": {},
   "outputs": [
    {
     "data": {
      "text/plain": [
       "'black'"
      ]
     },
     "execution_count": 11,
     "metadata": {},
     "output_type": "execute_result"
    }
   ],
   "source": [
    "spam.setdefault('color', 'black')\n",
    "\n"
   ]
  },
  {
   "cell_type": "markdown",
   "id": "60a0a99d",
   "metadata": {},
   "source": [
    "### Q8. How do you \"pretty print\" dictionary values using which module and function?"
   ]
  },
  {
   "cell_type": "code",
   "execution_count": null,
   "id": "00de6f06",
   "metadata": {},
   "outputs": [],
   "source": []
  }
 ],
 "metadata": {
  "kernelspec": {
   "display_name": "Python 3 (ipykernel)",
   "language": "python",
   "name": "python3"
  },
  "language_info": {
   "codemirror_mode": {
    "name": "ipython",
    "version": 3
   },
   "file_extension": ".py",
   "mimetype": "text/x-python",
   "name": "python",
   "nbconvert_exporter": "python",
   "pygments_lexer": "ipython3",
   "version": "3.9.12"
  }
 },
 "nbformat": 4,
 "nbformat_minor": 5
}
