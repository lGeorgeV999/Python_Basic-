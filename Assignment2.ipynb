{
 "cells": [
  {
   "cell_type": "markdown",
   "id": "6c62edaa",
   "metadata": {},
   "source": [
    "###  Q1.What are the two values of the Boolean data type? How do you write them?"
   ]
  },
  {
   "cell_type": "raw",
   "id": "4792295e",
   "metadata": {},
   "source": [
    "The Boolean data type has two possible values, which are True and False. \n",
    "In Python, the two values are written with capital letters as 'True' and 'False', respectively, while assiging a variable with a Boolean value in Python:\n",
    "\n",
    "var1 = True\n",
    "var2 = False\n",
    "\n",
    "These variables could then be used in Boolean expressions to make comparisons or control the flow of a program."
   ]
  },
  {
   "cell_type": "markdown",
   "id": "ee5706a6",
   "metadata": {},
   "source": [
    "###   Q2. What are the three different types of Boolean operators?"
   ]
  },
  {
   "cell_type": "raw",
   "id": "5ae2af68",
   "metadata": {},
   "source": [
    "The three different types of Boolean operators are: AND, OR, and NOT.\n",
    "These operators are used in Boolean logic to evaluate expressions and return true or false values. \n",
    "The AND operator returns true if and only if both operands are true. \n",
    "The OR operator returns true if either or both operands are true. \n",
    "The NOT operator returns the opposite value of the operand, that is, if the operand is true, NOT returns false and if the operand is false, NOT returns true."
   ]
  },
  {
   "cell_type": "markdown",
   "id": "6f7dda7b",
   "metadata": {},
   "source": [
    "###  Q3. Make a list of each Boolean operator&#39;s truth tables (i.e. every possible combination of Booleanvalues for the operator and what it evaluate )."
   ]
  },
  {
   "cell_type": "raw",
   "id": "374352e8",
   "metadata": {},
   "source": [
    "Here is a list of the Boolean operators and their truth tables:\n",
    "\n",
    "AND operator (&& or and): \n",
    "\n",
    "| A | B | A && B | |---|---|--------| | 0 | 0 | 0 | | 0 | 1 | 0 | | 1 | 0 | 0 | | 1 | 1 | 1 |\n",
    "\n",
    "OR operator (|| or or): \n",
    "\n",
    "| A | B | A || B | |---|---|--------------| | 0 | 0 | 0 | | 0 | 1 | 1 | | 1 | 0 | 1 | | 1 | 1 | 1 |\n",
    "\n",
    "NOT operator (! or not):\n",
    "\n",
    "| A | !A | |---|----| | 0 | 1 | | 1 | 0 |\n",
    "\n",
    "\n",
    "Each operator takes one or more Boolean values as input and returns a Boolean value as output. The AND operator returns true only if both inputs are true. The OR operator returns true if at least one input is true. The NOT operator returns the opposite of its input.\n",
    "\n",
    "Note that there may be variations in syntax and precedence for the Boolean operators in different programming languages or systems, but the underlying logic remains the same.\n",
    "\n"
   ]
  },
  {
   "cell_type": "markdown",
   "id": "1d3d5fb3",
   "metadata": {},
   "source": [
    "###  Q4. What are the values of the following expressions?\n",
    "#### 5 &gt; 4) and (3 == 5)\n",
    "#### not (5 > 4)\n",
    "#### (5 > 4) or (3 == 5)\n",
    "#### not ((5 > 4) or (3 == 5))\n",
    "#### (True and True) and (True == False)\n",
    "#### (not False) or (not True)"
   ]
  },
  {
   "cell_type": "raw",
   "id": "a4083b18",
   "metadata": {},
   "source": [
    "The values of the expressions:\n",
    "\n",
    "(5 > 4) and (3 == 5): False\n",
    "(5 > 4) is True, but (3 == 5) is False, so it is False.\n",
    "    \n",
    "not (5 > 4): False\n",
    "5 > 4) is True, but the not operator negates it to False.\n",
    "\n",
    "(5 > 4) or (3 == 5): True\n",
    "(5 > 4) is True, so the whole expression evaluates to True, regardless of the value of (3 == 5).\n",
    "    \n",
    "not ((5 > 4) or (3 == 5)): False\n",
    "(5 > 4) or (3 == 5) is True, so the not operator negates it to False.\n",
    "    \n",
    "(True and True) and (True == False): False\n",
    "(True and True) is True, but (True == False) is False, so the whole expression evaluates to False\n",
    "    \n",
    "(not False) or (not True): True\n",
    "(not False) is True, and (not True) is False, so the or operator returns True.\n",
    "\n",
    "True and False are special keywords that represent the Boolean values True and False, respectively.\n"
   ]
  },
  {
   "cell_type": "markdown",
   "id": "bc937332",
   "metadata": {},
   "source": [
    "### 5. What are the six comparison operators?"
   ]
  },
  {
   "cell_type": "raw",
   "id": "a3216ac2",
   "metadata": {},
   "source": [
    "ther are six comparison operators in Python. These are:\n",
    "Less than (<)\n",
    "Less than or equal to (<=)\n",
    "Greater than (>)\n",
    "Greater than or equal to (>=)\n",
    "Equal to (==)\n",
    "Not equal to (!=)"
   ]
  },
  {
   "cell_type": "code",
   "execution_count": null,
   "id": "4b11f16a",
   "metadata": {},
   "outputs": [],
   "source": []
  }
 ],
 "metadata": {
  "kernelspec": {
   "display_name": "Python 3 (ipykernel)",
   "language": "python",
   "name": "python3"
  },
  "language_info": {
   "codemirror_mode": {
    "name": "ipython",
    "version": 3
   },
   "file_extension": ".py",
   "mimetype": "text/x-python",
   "name": "python",
   "nbconvert_exporter": "python",
   "pygments_lexer": "ipython3",
   "version": "3.9.12"
  }
 },
 "nbformat": 4,
 "nbformat_minor": 5
}
