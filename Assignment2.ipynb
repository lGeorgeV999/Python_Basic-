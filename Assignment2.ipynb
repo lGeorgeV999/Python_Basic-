{
 "cells": [
  {
   "cell_type": "markdown",
   "id": "6c62edaa",
   "metadata": {},
   "source": [
    "###  Q1.What are the two values of the Boolean data type? How do you write them?"
   ]
  },
  {
   "cell_type": "markdown",
   "id": "fa263a4c",
   "metadata": {},
   "source": [
    "The Boolean data type has two possible values, which are True and False. \n",
    "In Python, the two values are written with capital letters as 'True' and 'False', respectively, while assiging a variable with a Boolean value in Python:\n",
    "\n",
    "var1 = True\n",
    "var2 = False\n",
    "\n",
    "These variables could then be used in Boolean expressions to make comparisons or control the flow of a program."
   ]
  },
  {
   "cell_type": "markdown",
   "id": "ee5706a6",
   "metadata": {},
   "source": [
    "###   Q2. What are the three different types of Boolean operators?"
   ]
  },
  {
   "cell_type": "markdown",
   "id": "b41024ef",
   "metadata": {},
   "source": [
    "The three different types of Boolean operators are: AND, OR, and NOT.\n",
    "\n",
    "These operators are used in Boolean logic to evaluate expressions and return true or false values. \n",
    "\n",
    "The AND operator returns true if and only if both operands are true. \n",
    "\n",
    "The OR operator returns true if either or both operands are true. \n",
    "\n",
    "The NOT operator returns the opposite value of the operand, that is, if the operand is true, NOT returns false and if the operand is false, NOT returns true."
   ]
  },
  {
   "cell_type": "markdown",
   "id": "6f7dda7b",
   "metadata": {},
   "source": [
    "###  Q3. Make a list of each Boolean operator&#39;s truth tables (i.e. every possible combination of Booleanvalues for the operator and what it evaluate )."
   ]
  },
  {
   "cell_type": "markdown",
   "id": "00118823",
   "metadata": {},
   "source": [
    "Here is a list of the Boolean operators and their truth tables:\n",
    "\n",
    "AND operator (&& or and): \n",
    "\n",
    "| A | B | A && B | |---|---|--------| | 0 | 0 | 0 | | 0 | 1 | 0 | | 1 | 0 | 0 | | 1 | 1 | 1 |\n",
    "\n",
    "OR operator (|| or or): \n",
    "\n",
    "| A | B | A || B | |---|---|--------------| | 0 | 0 | 0 | | 0 | 1 | 1 | | 1 | 0 | 1 | | 1 | 1 | 1 |\n",
    "\n",
    "NOT operator (! or not):\n",
    "\n",
    "| A | !A | |---|----| | 0 | 1 | | 1 | 0 |\n",
    "\n",
    "\n",
    "Each operator takes one or more Boolean values as input and returns a Boolean value as output. The AND operator returns true only if both inputs are true. The OR operator returns true if at least one input is true. The NOT operator returns the opposite of its input.\n",
    "\n",
    "Note that there may be variations in syntax and precedence for the Boolean operators in different programming languages or systems, but the underlying logic remains the same.\n",
    "\n"
   ]
  },
  {
   "cell_type": "markdown",
   "id": "1d3d5fb3",
   "metadata": {},
   "source": [
    "###  Q4. What are the values of the following expressions?\n",
    "#### 5 &gt; 4) and (3 == 5)\n",
    "#### not (5 > 4)\n",
    "#### (5 > 4) or (3 == 5)\n",
    "#### not ((5 > 4) or (3 == 5))\n",
    "#### (True and True) and (True == False)\n",
    "#### (not False) or (not True)"
   ]
  },
  {
   "cell_type": "markdown",
   "id": "73b8e798",
   "metadata": {},
   "source": [
    "The values of the expressions:\n",
    "\n",
    "(5 > 4) and (3 == 5): False\n",
    "(5 > 4) is True, but (3 == 5) is False, so it is False.\n",
    "    \n",
    "not (5 > 4): False\n",
    "5 > 4) is True, but the not operator negates it to False.\n",
    "\n",
    "(5 > 4) or (3 == 5): True\n",
    "(5 > 4) is True, so the whole expression evaluates to True, regardless of the value of (3 == 5).\n",
    "    \n",
    "not ((5 > 4) or (3 == 5)): False\n",
    "(5 > 4) or (3 == 5) is True, so the not operator negates it to False.\n",
    "    \n",
    "(True and True) and (True == False): False\n",
    "(True and True) is True, but (True == False) is False, so the whole expression evaluates to False\n",
    "    \n",
    "(not False) or (not True): True\n",
    "(not False) is True, and (not True) is False, so the or operator returns True.\n",
    "\n",
    "True and False are special keywords that represent the Boolean values True and False, respectively.\n"
   ]
  },
  {
   "cell_type": "markdown",
   "id": "bc937332",
   "metadata": {},
   "source": [
    "### 5. What are the six comparison operators?"
   ]
  },
  {
   "cell_type": "markdown",
   "id": "5b5f209f",
   "metadata": {},
   "source": [
    "There are six comparison operators in Python. These are:\n",
    "\n",
    "Less than (<)\n",
    "\n",
    "Less than or equal to (<=)\n",
    "\n",
    "Greater than (>)\n",
    "\n",
    "Greater than or equal to (>=)\n",
    "\n",
    "Equal to (==)\n",
    "\n",
    "Not equal to (!=)"
   ]
  },
  {
   "cell_type": "markdown",
   "id": "545a23ca",
   "metadata": {},
   "source": [
    "### Q6.How do you tell the difference between the equal to and assignment operators?Describe acondition and when you would use one ? "
   ]
  },
  {
   "cell_type": "code",
   "execution_count": 1,
   "id": "3e6570bf",
   "metadata": {},
   "outputs": [
    {
     "name": "stdout",
     "output_type": "stream",
     "text": [
      "x is not equal to y\n"
     ]
    }
   ],
   "source": [
    "#The equal to operator is \"==\", and it is used to compare two values to check if they are equal or not. \n",
    "#On the other hand, the assignment operator is \"=\", and it is used to assign a value to a variable.\n",
    "\n",
    "#To differentiate between the two operators, you can remember that the \"==\" operator is used for comparison \n",
    "#and returns a Boolean value (True or False), while the \"=\" operator is used for assignment and assigns \n",
    "#the value on the right-hand side to the variable on the left-hand side.\n",
    "\n",
    "#Here is an example of using both operators in a condition in Python:\n",
    "\n",
    "x = 10\n",
    "y = 5\n",
    "\n",
    "if x == y:\n",
    "    print(\"x is equal to y\")\n",
    "else:\n",
    "    print(\"x is not equal to y\")\n",
    "\n",
    "# Output: x is not equal to y\n",
    "\n",
    "#In this example, we are using the \"==\" operator to check if x is equal to y. \n",
    "#Since x is not equal to y, the condition evaluates to False, and the else block is executed, \n",
    "#printing \"x is not equal to y\".\n",
    "\n",
    "#Here is an example of using the \"=\" operator to assign a value to a variable:\n",
    "\n",
    "x = 5\n",
    "\n",
    "#In this example, we are using the \"=\" operator to assign the value 5 to the variable x.\n",
    "#After the assignment, the value of x is 5."
   ]
  },
  {
   "cell_type": "markdown",
   "id": "cd58839e",
   "metadata": {},
   "source": [
    "### Q7. Identify the three blocks in this code:"
   ]
  },
  {
   "cell_type": "code",
   "execution_count": 5,
   "id": "fca6168c",
   "metadata": {},
   "outputs": [
    {
     "name": "stdout",
     "output_type": "stream",
     "text": [
      "ham\n",
      "spam\n",
      "spam\n",
      "ham\n",
      "spam\n",
      "spam\n"
     ]
    }
   ],
   "source": [
    "#There are three blocks of code in the given code snippet:\n",
    "\n",
    "#Block 1:\n",
    "\n",
    "spam = 0\n",
    "if spam == 10:\n",
    "    print('eggs')\n",
    "#This block sets the variable spam to 0 and checks if it is equal to 10.\n",
    "#Since it is not, the print('eggs') statement is not executed.\n",
    "\n",
    "#Block 2:\n",
    "\n",
    "if spam > 5:\n",
    "    print('bacon')\n",
    "else:\n",
    "    print('ham')\n",
    "#This block checks if the value of spam is greater than 5. \n",
    "#Since it is not (spam is 0), the else block is executed and print('ham') statement is executed.\n",
    "\n",
    "#Block 3:\n",
    "\n",
    "print('spam')\n",
    "print('spam')\n",
    "#This block contains two print() statements that will be executed unconditionally,\n",
    "#regardless of the value of spam.\n",
    "\n",
    "#Therefore, the three blocks in this code are:\n",
    "\n",
    "#Block 1:\n",
    "\n",
    "spam = 0\n",
    "if spam == 10:\n",
    "    print('eggs')\n",
    "\n",
    "    \n",
    "#Block 2:\n",
    "\n",
    "if spam > 5:\n",
    "    print('bacon')\n",
    "else:\n",
    "    print('ham')\n",
    "\n",
    "#Block 3:\n",
    "\n",
    "print('spam')\n",
    "print('spam')"
   ]
  },
  {
   "cell_type": "markdown",
   "id": "36731caa",
   "metadata": {},
   "source": [
    "### Q8.Write code that prints Hello if 1 is stored in spam, prints Howdy if 2 is stored in spam, and prints Greetings! if anything else is stored in spam."
   ]
  },
  {
   "cell_type": "code",
   "execution_count": 6,
   "id": "533ebada",
   "metadata": {},
   "outputs": [
    {
     "name": "stdout",
     "output_type": "stream",
     "text": [
      "Greetings!\n"
     ]
    }
   ],
   "source": [
    "#the code that prints \"Hello\" if 1 is stored in the variable spam, \n",
    "# \"Howdy\" if 2 is stored in spam, and \"Greetings!\" if anything else is stored in spam:\n",
    "\n",
    "if spam == 1:\n",
    "    print(\"Hello\")\n",
    "elif spam == 2:\n",
    "    print(\"Howdy\")\n",
    "else:\n",
    "    print(\"Greetings!\")\n",
    "\n",
    "    #In this code, we are using the if-elif-else statement to check the value stored in the spam variable. \n",
    "    #If it is equal to 1, we print \"Hello\". If it is equal to 2, we print \"Howdy\". Otherwise, we print \"Greetings!\"."
   ]
  },
  {
   "cell_type": "markdown",
   "id": "84265d35",
   "metadata": {},
   "source": [
    "### Q9.If your programme is stuck in an endless loop, what keys you’ll press?"
   ]
  },
  {
   "cell_type": "markdown",
   "id": "4ee60436",
   "metadata": {},
   "source": [
    "If our Python program is stuck in an endless loop, you can press the \"Ctrl\" and \"C\" keys simultaneously on your keyboard to send a keyboard interrupt signal to the program. This will cause the program to stop executing and return to the command prompt.\n",
    "\n",
    "In addition, if you are running the program in an integrated development environment (IDE), you may be able to use the IDE's stop or interrupt button to halt the program's execution.\n",
    "\n",
    "If the program is running in a terminal or console, and the above method does not work, you can try killing the process from the operating system's task manager or using the \"kill\" command in a Unix-like operating system to terminate the process."
   ]
  },
  {
   "cell_type": "markdown",
   "id": "6533710f",
   "metadata": {},
   "source": [
    "### Q10. How can you tell the difference between break and continue?"
   ]
  },
  {
   "cell_type": "code",
   "execution_count": 7,
   "id": "9fc23786",
   "metadata": {},
   "outputs": [
    {
     "name": "stdout",
     "output_type": "stream",
     "text": [
      "1\n",
      "2\n",
      "3\n",
      "4\n",
      "1\n",
      "3\n",
      "5\n",
      "7\n",
      "9\n"
     ]
    }
   ],
   "source": [
    "#In Python, both break and continue are control flow statements that are used to alter the flow of execution in a loop,\n",
    "#but they have different effects on the loop.\n",
    "\n",
    "#The break statement is used to exit a loop (for loop, while loop, or nested loop) prematurely. \n",
    "#When break statement is encountered in a loop, the control is transferred to the statement immediately \n",
    "#following the loop. This is useful when we want to terminate the loop before it has finished iterating \n",
    "#over all the elements.\n",
    "\n",
    "#Here's an example of how to use break in a loop:\n",
    "\n",
    "for i in range(1, 11):\n",
    "    if i == 5:\n",
    "        break\n",
    "    print(i)\n",
    "    \n",
    "#In this example, the loop is terminated when the value of i is 5. The output of the above code will be:\n",
    "\n",
    "#On the other hand, the continue statement is used to skip the current iteration of a loop and move to the next \n",
    "#iteration. When continue statement is encountered in a loop, the control is transferred to the next iteration of \n",
    "#the loop without executing the remaining statements in the loop body.\n",
    "\n",
    "#Here's an example of how to use continue in a loop:\n",
    "\n",
    "for i in range(1, 11):\n",
    "    if i % 2 == 0:\n",
    "        continue\n",
    "    print(i)\n",
    "\n",
    "    #In this example, the loop skips the even numbers and moves to the next iteration.\n",
    "    #The output of the above code will be:\n",
    "\n",
    "#To summarize, break is used to exit a loop prematurely, while continue is used to skip the current \n",
    "#iteration and move to the next iteration of the loop."
   ]
  },
  {
   "cell_type": "markdown",
   "id": "83b7cc89",
   "metadata": {},
   "source": [
    "### Q11. In a for loop, what is the difference between range(10), range(0, 10), and range(0, 10, 1)?"
   ]
  },
  {
   "cell_type": "markdown",
   "id": "a3090173",
   "metadata": {},
   "source": [
    "In a for loop, range(10), range(0, 10), and range(0, 10, 1) all produce the same sequence of numbers from 0 to 9. However, they differ in the way the arguments are specified:\n",
    "\n",
    "range(10): This will generate a sequence of numbers starting from 0 up to 9 (inclusive), with a step size of 1. This is equivalent to range(0, 10, 1), and is the most commonly used form of the range() function in Python.\n",
    "\n",
    "range(0, 10): This will also generate a sequence of numbers starting from 0 up to 9 (inclusive), with a step size of 1. However, this form of the range() function explicitly specifies the start and stop values, whereas the first form range(10) defaults the start value to 0.\n",
    "\n",
    "range(0, 10, 1): This form of the range() function explicitly specifies the start, stop, and step values. In this case, the start value is 0, the stop value is 10 (but not included), and the step size is 1. This is equivalent to the first form range(10) and is the most commonly used form."
   ]
  },
  {
   "cell_type": "markdown",
   "id": "925f45b8",
   "metadata": {},
   "source": [
    "### Q.12 Write a short program that prints the numbers 1 to 10 using a for loop. Then write an equivalent program that prints the numbers 1 to 10 using a while loop."
   ]
  },
  {
   "cell_type": "code",
   "execution_count": 9,
   "id": "0092eee7",
   "metadata": {},
   "outputs": [
    {
     "name": "stdout",
     "output_type": "stream",
     "text": [
      "1\n",
      "2\n",
      "3\n",
      "4\n",
      "5\n",
      "6\n",
      "7\n",
      "8\n",
      "9\n",
      "10\n",
      "1\n",
      "2\n",
      "3\n",
      "4\n",
      "5\n",
      "6\n",
      "7\n",
      "8\n",
      "9\n",
      "10\n"
     ]
    }
   ],
   "source": [
    "#A short Python program that prints the numbers 1 to 10 using a for loop:\n",
    "\n",
    "for i in range(1, 11):\n",
    "    print(i)\n",
    "\n",
    "    #here's an equivalent program that prints the numbers 1 to 10 using a while loop:\n",
    "\n",
    "i = 1\n",
    "while i <= 10:\n",
    "    print(i)\n",
    "    i += 1\n",
    "\n",
    "    #In the while loop version, we first initialize the variable i to 1. \n",
    "    #Then, we use a while loop to print the value of i and increment it by 1 until i becomes greater than 10."
   ]
  },
  {
   "cell_type": "markdown",
   "id": "943f66d3",
   "metadata": {},
   "source": [
    "### Q13. If you had a function named bacon() inside a module named spam, how would you call it after importing spam?"
   ]
  },
  {
   "cell_type": "code",
   "execution_count": 18,
   "id": "e94a72e4",
   "metadata": {},
   "outputs": [
    {
     "name": "stdout",
     "output_type": "stream",
     "text": [
      "Collecting spams\n",
      "  Downloading spams-2.6.5.4.tar.gz (2.0 MB)\n",
      "\u001b[2K     \u001b[90m━━━━━━━━━━━━━━━━━━━━━━━━━━━━━━━━━━━━━━━━\u001b[0m \u001b[32m2.0/2.0 MB\u001b[0m \u001b[31m2.0 MB/s\u001b[0m eta \u001b[36m0:00:00\u001b[0m00:01\u001b[0m00:01\u001b[0m\n",
      "\u001b[?25h  Installing build dependencies ... \u001b[?25ldone\n",
      "\u001b[?25h  Getting requirements to build wheel ... \u001b[?25ldone\n",
      "\u001b[?25h  Preparing metadata (pyproject.toml) ... \u001b[?25ldone\n",
      "\u001b[?25hRequirement already satisfied: numpy>=1.12 in ./opt/anaconda3/lib/python3.9/site-packages (from spams) (1.24.2)\n",
      "Requirement already satisfied: Pillow>=6.0 in ./opt/anaconda3/lib/python3.9/site-packages (from spams) (9.3.0)\n",
      "Requirement already satisfied: scipy>=1.0 in ./opt/anaconda3/lib/python3.9/site-packages (from spams) (1.5.4)\n",
      "Building wheels for collected packages: spams\n",
      "  Building wheel for spams (pyproject.toml) ... \u001b[?25ldone\n",
      "\u001b[?25h  Created wheel for spams: filename=spams-2.6.5.4-cp39-cp39-macosx_13_0_x86_64.whl size=1105885 sha256=c2182aa238d635797f3dfa74be146c5c9d20a5324996d952bcd9916b1c554c1f\n",
      "  Stored in directory: /Users/apple/Library/Caches/pip/wheels/0d/51/2d/65c742bffd7864e2649610c8808bf4d20cf13ce80c6e2260df\n",
      "Successfully built spams\n",
      "Installing collected packages: spams\n",
      "Successfully installed spams-2.6.5.4\n",
      "Note: you may need to restart the kernel to use updated packages.\n"
     ]
    }
   ],
   "source": [
    "pip install spams"
   ]
  },
  {
   "cell_type": "code",
   "execution_count": 20,
   "id": "d3be448e",
   "metadata": {},
   "outputs": [
    {
     "ename": "AttributeError",
     "evalue": "'int' object has no attribute 'bacon'",
     "output_type": "error",
     "traceback": [
      "\u001b[0;31m---------------------------------------------------------------------------\u001b[0m",
      "\u001b[0;31mAttributeError\u001b[0m                            Traceback (most recent call last)",
      "\u001b[0;32m/var/folders/6q/pjbsx_896cb6xf0794334hkc0000gn/T/ipykernel_53950/3779209998.py\u001b[0m in \u001b[0;36m<module>\u001b[0;34m\u001b[0m\n\u001b[1;32m      3\u001b[0m \u001b[0;32mimport\u001b[0m \u001b[0mspams\u001b[0m\u001b[0;34m\u001b[0m\u001b[0;34m\u001b[0m\u001b[0m\n\u001b[1;32m      4\u001b[0m \u001b[0;34m\u001b[0m\u001b[0m\n\u001b[0;32m----> 5\u001b[0;31m \u001b[0mspam\u001b[0m\u001b[0;34m.\u001b[0m\u001b[0mbacon\u001b[0m\u001b[0;34m(\u001b[0m\u001b[0;34m)\u001b[0m\u001b[0;34m\u001b[0m\u001b[0;34m\u001b[0m\u001b[0m\n\u001b[0m\u001b[1;32m      6\u001b[0m \u001b[0;34m\u001b[0m\u001b[0m\n\u001b[1;32m      7\u001b[0m \u001b[0;31m#Here, we first import the spam module using the import statement.\u001b[0m\u001b[0;34m\u001b[0m\u001b[0;34m\u001b[0m\u001b[0m\n",
      "\u001b[0;31mAttributeError\u001b[0m: 'int' object has no attribute 'bacon'"
     ]
    }
   ],
   "source": [
    "# A function named bacon() inside a module named spam, you can call it after importing spam module using \n",
    "#@the dot notation as follows:\n",
    "import spams\n",
    "\n",
    "spam.bacon()\n",
    "\n",
    "#Here, we first import the spam module using the import statement. \n",
    "#Then, we call the bacon() function by prefixing it with the module name and a dot (.) separator.\n",
    "#This tells Python to look for the bacon() function inside the spam module."
   ]
  },
  {
   "cell_type": "code",
   "execution_count": null,
   "id": "c3d92134",
   "metadata": {},
   "outputs": [],
   "source": []
  }
 ],
 "metadata": {
  "kernelspec": {
   "display_name": "Python 3 (ipykernel)",
   "language": "python",
   "name": "python3"
  },
  "language_info": {
   "codemirror_mode": {
    "name": "ipython",
    "version": 3
   },
   "file_extension": ".py",
   "mimetype": "text/x-python",
   "name": "python",
   "nbconvert_exporter": "python",
   "pygments_lexer": "ipython3",
   "version": "3.9.12"
  }
 },
 "nbformat": 4,
 "nbformat_minor": 5
}
