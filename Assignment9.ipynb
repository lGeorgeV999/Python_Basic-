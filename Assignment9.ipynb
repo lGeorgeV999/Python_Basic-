{
 "cells": [
  {
   "cell_type": "markdown",
   "id": "2a6615bf",
   "metadata": {},
   "source": [
    "#### Q1.To what does a relative path refer?"
   ]
  },
  {
   "cell_type": "markdown",
   "id": "916005d9",
   "metadata": {},
   "source": [
    "Relative paths are relative to the current working directory.\n",
    "\n"
   ]
  },
  {
   "cell_type": "markdown",
   "id": "0be160e2",
   "metadata": {},
   "source": [
    "#### Q2. What does an absolute path start with your operating system?\n",
    "\n"
   ]
  },
  {
   "cell_type": "markdown",
   "id": "8f86deba",
   "metadata": {},
   "source": [
    "Absolute paths start with the root folder, such as / or C:. An absolute path always contains the root elements and the complete list of directories to locate the specific file or folder. All the information required to locate the file or folder is available in the absolute path."
   ]
  },
  {
   "cell_type": "markdown",
   "id": "20cd36fb",
   "metadata": {},
   "source": [
    "#### Q3.What do the functions os.getcwd() and os.chdir() do?"
   ]
  },
  {
   "cell_type": "markdown",
   "id": "7f5c573d",
   "metadata": {},
   "source": [
    "The os.getcwd() function returns the current working directory. The os.chdir() function changes the current working directory."
   ]
  },
  {
   "cell_type": "markdown",
   "id": "c1cf289d",
   "metadata": {},
   "source": [
    "#### Q4. What are the . and .. folders?"
   ]
  },
  {
   "cell_type": "markdown",
   "id": "9031228a",
   "metadata": {},
   "source": [
    "The . folder is the current folder, and .. is the parent folder.\n",
    "\n"
   ]
  },
  {
   "cell_type": "markdown",
   "id": "4c37deb7",
   "metadata": {},
   "source": [
    "#### Q5. In C:\\bacon\\eggs\\spam.txt, which part is the dir name, and which part is the base name?"
   ]
  },
  {
   "cell_type": "markdown",
   "id": "629c5d9d",
   "metadata": {},
   "source": [
    "C:\\bacon\\eggs is the dir name, while spam.txt is the base name."
   ]
  },
  {
   "cell_type": "markdown",
   "id": "fa3934c4",
   "metadata": {},
   "source": [
    "#### Q6. What are the three “mode” arguments that can be passed to the open() function?\n",
    "\n"
   ]
  },
  {
   "cell_type": "markdown",
   "id": "fd5494a1",
   "metadata": {},
   "source": [
    "The string 'r' for read mode, 'w' for write mode, and 'a' for append mode\n",
    "\n"
   ]
  },
  {
   "cell_type": "markdown",
   "id": "8f42996f",
   "metadata": {},
   "source": [
    "#### Q7. What happens if an existing file is opened in write mode?\n",
    "\n"
   ]
  },
  {
   "cell_type": "markdown",
   "id": "b235f393",
   "metadata": {},
   "source": [
    "An existing file opened in write mode is erased and completely overwritten.\n",
    "\n"
   ]
  },
  {
   "cell_type": "markdown",
   "id": "4935c5b7",
   "metadata": {},
   "source": [
    "#### Q8. How do you tell the difference between read() and readlines()?\n",
    "\n"
   ]
  },
  {
   "cell_type": "markdown",
   "id": "93a46c4f",
   "metadata": {},
   "source": [
    "The read() method returns the file's entire contents as a single string value. The readlines() method returns a list of strings, where each string is a line from the file's contents."
   ]
  },
  {
   "cell_type": "markdown",
   "id": "d9c02e24",
   "metadata": {},
   "source": [
    "#### Q9.What data structure does a shelf value resemble?\n",
    "\n"
   ]
  },
  {
   "cell_type": "markdown",
   "id": "60524c33",
   "metadata": {},
   "source": [
    "A shelf value resembles a dictionary value; it has keys and values, along with keys() and values() methods that work similarly to the dictionary methods of the same names."
   ]
  },
  {
   "cell_type": "code",
   "execution_count": null,
   "id": "c3c89ff9",
   "metadata": {},
   "outputs": [],
   "source": []
  }
 ],
 "metadata": {
  "kernelspec": {
   "display_name": "Python 3 (ipykernel)",
   "language": "python",
   "name": "python3"
  },
  "language_info": {
   "codemirror_mode": {
    "name": "ipython",
    "version": 3
   },
   "file_extension": ".py",
   "mimetype": "text/x-python",
   "name": "python",
   "nbconvert_exporter": "python",
   "pygments_lexer": "ipython3",
   "version": "3.9.12"
  }
 },
 "nbformat": 4,
 "nbformat_minor": 5
}
