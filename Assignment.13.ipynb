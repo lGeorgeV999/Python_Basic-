{
 "cells": [
  {
   "cell_type": "markdown",
   "id": "9038938a",
   "metadata": {},
   "source": [
    "### Q1. What advantages do Excel spreadsheets have over CSV spreadsheets?"
   ]
  },
  {
   "cell_type": "markdown",
   "id": "570f9c19",
   "metadata": {},
   "source": [
    "In Excel, spreadsheets can have values of datatypes other than strings; cells can have different fonts, sizes, or color settings; cells can have varying widths and heights; adjecent cells can be merged; and we can embed images and charts."
   ]
  },
  {
   "cell_type": "markdown",
   "id": "9d908271",
   "metadata": {},
   "source": [
    "### Q2. What do you pass to csv.reader() and csv.writer() to create reader and writer objects?"
   ]
  },
  {
   "cell_type": "markdown",
   "id": "9e6be994",
   "metadata": {},
   "source": [
    "We pass a file object, obtained from call to open().\n",
    "\n"
   ]
  },
  {
   "cell_type": "markdown",
   "id": "ef16c13f",
   "metadata": {},
   "source": [
    "### Q3. What modes do File objects for reader and writer objects need to be opened in?\n",
    "\n"
   ]
  },
  {
   "cell_type": "markdown",
   "id": "419ff5d2",
   "metadata": {},
   "source": [
    "File objects need to be opened in read-binary ('rb') for reader objects and write-binary ('wb') fro writer objects.\n",
    "\n"
   ]
  },
  {
   "cell_type": "markdown",
   "id": "143b9a7b",
   "metadata": {},
   "source": [
    "### Q4. What method takes a list argument and writes it to a CSV file?"
   ]
  },
  {
   "cell_type": "markdown",
   "id": "8dea2859",
   "metadata": {},
   "source": [
    "The writerrow() method."
   ]
  },
  {
   "cell_type": "markdown",
   "id": "f8f600bc",
   "metadata": {},
   "source": [
    "### Q5. What do the keyword arguments delimiter and line terminator do?\n",
    "\n"
   ]
  },
  {
   "cell_type": "markdown",
   "id": "d08ff278",
   "metadata": {},
   "source": [
    "The delimeter argument change the string used to separate cells in a row. The lineterminator argument changes the string used to separate rows."
   ]
  },
  {
   "cell_type": "markdown",
   "id": "4b9a2a24",
   "metadata": {},
   "source": [
    "### Q6.What function takes a string of JSON data and returns a Python data structure?\n"
   ]
  },
  {
   "cell_type": "markdown",
   "id": "e4e45332",
   "metadata": {},
   "source": [
    "json.loads()"
   ]
  },
  {
   "cell_type": "markdown",
   "id": "ae3c522d",
   "metadata": {},
   "source": [
    "### Q7. What function takes a Python data structure and returns a string of JSON data?\n",
    "\n"
   ]
  },
  {
   "cell_type": "markdown",
   "id": "d0a2f4b2",
   "metadata": {},
   "source": [
    "json.dumps()\n",
    "\n"
   ]
  },
  {
   "cell_type": "code",
   "execution_count": null,
   "id": "008e6cd4",
   "metadata": {},
   "outputs": [],
   "source": []
  }
 ],
 "metadata": {
  "kernelspec": {
   "display_name": "Python 3 (ipykernel)",
   "language": "python",
   "name": "python3"
  },
  "language_info": {
   "codemirror_mode": {
    "name": "ipython",
    "version": 3
   },
   "file_extension": ".py",
   "mimetype": "text/x-python",
   "name": "python",
   "nbconvert_exporter": "python",
   "pygments_lexer": "ipython3",
   "version": "3.9.12"
  }
 },
 "nbformat": 4,
 "nbformat_minor": 5
}
