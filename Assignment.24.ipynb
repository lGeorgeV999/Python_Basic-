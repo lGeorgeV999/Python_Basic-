{
 "cells": [
  {
   "cell_type": "markdown",
   "id": "f03c1bda",
   "metadata": {},
   "source": [
    "### What is the relationship between def statements and lambda expressions ?"
   ]
  },
  {
   "cell_type": "markdown",
   "id": "642264ea",
   "metadata": {},
   "source": [
    "As an expression, lambda returns a value that can optionally be assigned a name.\n",
    "\n",
    "In contrast, the def statement always assigns the new function to the name in the header, instead of returning is as a result. lambda's body is a single expression, not a block of statements"
   ]
  },
  {
   "cell_type": "markdown",
   "id": "f2e00705",
   "metadata": {},
   "source": [
    "### Q2. What is the benefit of lambda?\n",
    "\n"
   ]
  },
  {
   "cell_type": "markdown",
   "id": "de2a9a6e",
   "metadata": {},
   "source": [
    "The lambda keyword in Python provides a shortcut for declaring small anonymous functions.\n",
    "\n",
    "Lambda functions behave just like regular functions declared with the def keyword.\n",
    "\n",
    "They can be used whenever function objects are required."
   ]
  },
  {
   "cell_type": "markdown",
   "id": "e17fd332",
   "metadata": {},
   "source": [
    "### Q3.Compare and contrast map, filter, and reduce."
   ]
  },
  {
   "cell_type": "markdown",
   "id": "992ca5e6",
   "metadata": {},
   "source": [
    "Map operation takes a mapping function and a vector of data as arguments and returns a new vector, which is the result of applying the mapping function on each element of the vector independently. The returned value from map() (map object) then can be passed to functions like list() (to create a list), set() (to create a set) and so on.\n",
    "\n",
    "The filter function operates on a list and returns a subset of that list after applying the filtering rule.\n",
    "\n",
    "The reduce function will transform a given list into a single value by applying a given function continuously to all the elements. It basically keeps operating on pairs of elements until there are no more elements left."
   ]
  },
  {
   "cell_type": "markdown",
   "id": "68e59e2d",
   "metadata": {},
   "source": [
    "### Q4. What are function annotations, and how are they used?\n",
    "\n"
   ]
  },
  {
   "cell_type": "markdown",
   "id": "0ed82310",
   "metadata": {},
   "source": [
    "Function annotations are completely optional both for parameters and return value. Function annotations provide a way of associating various parts of a function with arbitrary python expressions at compile time.\n",
    "\n",
    "Syntax of function annotations for simple parameters and for excess parameters respectively:\n",
    "\n",
    "def foobar(a: expression, b: expression = 5):\n",
    "\n",
    "def foobar(args: expression, kwargs: expression):"
   ]
  },
  {
   "cell_type": "markdown",
   "id": "7500ccca",
   "metadata": {},
   "source": [
    "### Q5. What are recursive functions, and how are they used?"
   ]
  },
  {
   "cell_type": "markdown",
   "id": "88f7fcf8",
   "metadata": {},
   "source": [
    "A recursive function is a function defined in terms of itself via self-referential expressions. This means that the function will continue to call itself and repeat its behavior until some condition is met to return a result.\n",
    "\n",
    "In this example, tri_recursion() is a function that we have defined to call itself (\"recurse\"). We use the k variable as the data, which decrements (-1) every time we recurse. The recursion ends when the condition is not greater than 0 (i.e. when it is 0)."
   ]
  },
  {
   "cell_type": "code",
   "execution_count": 2,
   "id": "fe398410",
   "metadata": {},
   "outputs": [
    {
     "name": "stdout",
     "output_type": "stream",
     "text": [
      "Recursion Example Results\n",
      "1\n",
      "3\n",
      "6\n",
      "10\n",
      "15\n",
      "21\n"
     ]
    },
    {
     "data": {
      "text/plain": [
       "21"
      ]
     },
     "execution_count": 2,
     "metadata": {},
     "output_type": "execute_result"
    }
   ],
   "source": [
    "def tri_recursion(k):\n",
    "  if(k>0):\n",
    "    result = k+tri_recursion(k-1)\n",
    "    print(result)\n",
    "  else:\n",
    "    result = 0\n",
    "  return result\n",
    "\n",
    "print(\"Recursion Example Results\")\n",
    "tri_recursion(6)"
   ]
  },
  {
   "cell_type": "markdown",
   "id": "a0c8e7d6",
   "metadata": {},
   "source": [
    "### Q6. What are some general design guidelines for coding functions?\n",
    "\n"
   ]
  },
  {
   "cell_type": "markdown",
   "id": "9d415906",
   "metadata": {},
   "source": [
    "Use 4-space indentation and no tabs.\n",
    "\n",
    "Use docstrings\n",
    "\n",
    "Wrap lines so that they don’t exceed 79 characters\n",
    "\n",
    "Use of regular and updated comments are valuable to both the coders and users"
   ]
  },
  {
   "cell_type": "code",
   "execution_count": null,
   "id": "deaca700",
   "metadata": {},
   "outputs": [],
   "source": []
  }
 ],
 "metadata": {
  "kernelspec": {
   "display_name": "Python 3 (ipykernel)",
   "language": "python",
   "name": "python3"
  },
  "language_info": {
   "codemirror_mode": {
    "name": "ipython",
    "version": 3
   },
   "file_extension": ".py",
   "mimetype": "text/x-python",
   "name": "python",
   "nbconvert_exporter": "python",
   "pygments_lexer": "ipython3",
   "version": "3.9.12"
  }
 },
 "nbformat": 4,
 "nbformat_minor": 5
}
