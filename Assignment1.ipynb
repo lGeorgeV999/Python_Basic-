{
 "cells": [
  {
   "cell_type": "markdown",
   "id": "cd121820",
   "metadata": {},
   "source": [
    "### 1. In the below elements which of them are values or an expression? eg:- values can beinteger or string and expressions will be mathematical operators."
   ]
  },
  {
   "cell_type": "markdown",
   "id": "452a7c32",
   "metadata": {},
   "source": [
    " *      : expression (multiplication operator)\n",
    "'hello' : value (string)\n",
    "-87.8   : value (float)\n",
    " -      : expression (subtraction operator)\n",
    " /      : expression (division operator)\n",
    " +      : expression (addition operator)\n",
    " 6      : value (integer)"
   ]
  },
  {
   "cell_type": "markdown",
   "id": "91ddfe6f",
   "metadata": {},
   "source": [
    "### Q2. What is the difference between string and variable?"
   ]
  },
  {
   "cell_type": "markdown",
   "id": "26e13664",
   "metadata": {},
   "source": [
    "A string is a sequence of characters enclosed within quotation marks (either single quotes or double quotes). \n",
    "A string can contain letters, numbers, symbols, and even white spaces.\n",
    "Examples of strings are \"Hello World!\", \"123\", and \"George\".\n",
    "\n",
    "On the other hand, a variable is a named memory location that stores a value. \n",
    "A variable can hold different types of data, such as strings, numbers, and Boolean values.\n",
    "Variables are used to store data that can be manipulated or used in a program. Variables are assigned a name, which can be used to refer to their value throughout the program.\n",
    "\n",
    "The main difference between a string and a variable is that a string is a specific type of data that represents a sequence of characters, whereas a variable is a container that can hold different types of data, including strings. Strings are used to represent text in a program, while variables are used to store and manipulate data of different types, including strings.\\"
   ]
  },
  {
   "cell_type": "markdown",
   "id": "06841e13",
   "metadata": {},
   "source": [
    "### Q3. Describe three different data types."
   ]
  },
  {
   "cell_type": "markdown",
   "id": "cd951e9f",
   "metadata": {},
   "source": [
    "There are three different data types:\n",
    "\n",
    "Integer: An integer is a data type that represents whole numbers, such as -2, -1, 0, 1, 2, 3, etc. Integers are used to represent quantities that can be counted or measured in whole units. In programming, integers are typically represented as 32-bit or 64-bit binary numbers.\n",
    "\n",
    "String: A string is a data type that represents a sequence of characters, such as \"hello\", \"world\", \"123\", etc. Strings are used to represent text in programming and can contain letters, numbers, and special characters. In most programming languages, strings are enclosed in quotation marks.\n",
    "\n",
    "Boolean: A boolean is a data type that represents a binary value of either true or false. Booleans are used in programming to represent conditions, such as whether a statement is true or false, or whether a value meets a certain criteria. Booleans are often used in conditional statements and logical operations."
   ]
  },
  {
   "cell_type": "markdown",
   "id": "75c937b4",
   "metadata": {},
   "source": [
    "### 4. What is an expression made up of? What do all expressions do?"
   ]
  },
  {
   "cell_type": "markdown",
   "id": "1b346574",
   "metadata": {},
   "source": [
    "An expression in programming is made up of one or more values, variables, and operators that are combined together to produce a result. \n",
    "Expressions can include arithmetic operations, logical operations, comparison operations, and more.\n",
    "\n",
    "In general, expressions evaluate to a value. The value of an expression can be a number, a string, a Boolean value (true or false), or any other data type. Expressions are used in programming to perform calculations, manipulate data, and make decisions based on certain conditions.\n",
    "\n",
    "All expressions in programming follow the same basic principle of taking one or more inputs, manipulating them using operators and functions, and producing an output. The output of an expression can be used as input for another expression, allowing complex calculations and operations to be performed using a series of simpler expressions.\n",
    "\n",
    "In short, expressions are the building blocks of programming and are used to perform calculations, manipulate data, and make decisions based on certain conditions."
   ]
  },
  {
   "cell_type": "markdown",
   "id": "24f36d5f",
   "metadata": {},
   "source": [
    "### 5. This assignment statements, like spam = 10. What is the difference between an expression and a statement?"
   ]
  },
  {
   "cell_type": "code",
   "execution_count": 3,
   "id": "bb25e5ba",
   "metadata": {},
   "outputs": [],
   "source": [
    "#An expression is a piece of code that returns a value, \n",
    "#whereas a statement is a complete line of code that performs an action.\n",
    "\n",
    "#An expression can be used within a statement to compute a value or modify its behavior. \n",
    "#For example, in the statement spam = 10 + 5, the expression 10 + 5 is evaluated and its result, 15, \n",
    "#is assigned to the variable spam.\n",
    "\n",
    "#On the other hand, a statement cannot be used within an expression. \n",
    "#It is a complete unit of execution that can include expressions and other statements. \n",
    "#Examples of statements in Python include assignment statements, loop statements, conditional statements,\n",
    "#function definitions, and class definitions."
   ]
  },
  {
   "cell_type": "markdown",
   "id": "048702a6",
   "metadata": {},
   "source": [
    "### Q6. After running the following code, what does the variable bacon contain?"
   ]
  },
  {
   "cell_type": "code",
   "execution_count": 4,
   "id": "91d272e6",
   "metadata": {},
   "outputs": [
    {
     "name": "stdout",
     "output_type": "stream",
     "text": [
      "23\n"
     ]
    }
   ],
   "source": [
    "bacon = 22\n",
    "bacon = bacon + 1\n",
    "\n",
    "print(bacon)"
   ]
  },
  {
   "cell_type": "markdown",
   "id": "10069608",
   "metadata": {},
   "source": [
    "### Q7. What should the values of the following two terms be?"
   ]
  },
  {
   "cell_type": "code",
   "execution_count": 5,
   "id": "4e4d319c",
   "metadata": {},
   "outputs": [
    {
     "data": {
      "text/plain": [
       "'spamspamspam'"
      ]
     },
     "execution_count": 5,
     "metadata": {},
     "output_type": "execute_result"
    }
   ],
   "source": [
    "'spam'  + 'spamspam'"
   ]
  },
  {
   "cell_type": "code",
   "execution_count": 6,
   "id": "d9041da0",
   "metadata": {},
   "outputs": [
    {
     "data": {
      "text/plain": [
       "'spamspamspam'"
      ]
     },
     "execution_count": 6,
     "metadata": {},
     "output_type": "execute_result"
    }
   ],
   "source": [
    "'spam' * 3"
   ]
  },
  {
   "cell_type": "markdown",
   "id": "7ab57943",
   "metadata": {},
   "source": [
    "### 8. Why is eggs a valid variable name while 100 is invalid?"
   ]
  },
  {
   "cell_type": "raw",
   "id": "3e17e3ba",
   "metadata": {},
   "source": [
    "in Python, variable names must follow certain rules:\n",
    "\n",
    "They must start with a letter or underscore (_).\n",
    "The rest of the variable name can contain letters, numbers, and underscores.\n",
    "Variable names are case-sensitive.\n",
    "Based on these rules, eggs is a valid variable name because it starts with a letter (e) and the rest of the name contains only letters.\n",
    "\n",
    "On the other hand, 100 is an invalid variable name because it starts with a number. Variable names in Python cannot start with a number, they must start with a letter or underscore.\n",
    "\n",
    "However, it is possible to include numbers in variable names as long as they are not the first character. For example, 'eggs123' is a valid variable name."
   ]
  },
  {
   "cell_type": "markdown",
   "id": "dddda3d3",
   "metadata": {},
   "source": [
    "### 9. What three functions can be used to get the integer, floating-point number, or stringversion of a value?"
   ]
  },
  {
   "cell_type": "code",
   "execution_count": 7,
   "id": "e891f8fc",
   "metadata": {},
   "outputs": [
    {
     "data": {
      "text/plain": [
       "int"
      ]
     },
     "execution_count": 7,
     "metadata": {},
     "output_type": "execute_result"
    }
   ],
   "source": [
    "num = int(\"42\")  # Convert string \"42\" to integer 42\n",
    "type(num)"
   ]
  },
  {
   "cell_type": "code",
   "execution_count": 8,
   "id": "66659846",
   "metadata": {},
   "outputs": [
    {
     "data": {
      "text/plain": [
       "float"
      ]
     },
     "execution_count": 8,
     "metadata": {},
     "output_type": "execute_result"
    }
   ],
   "source": [
    "num = float(\"3.14\")  # Convert string \"3.14\" to float 3.14\n",
    "type(num)"
   ]
  },
  {
   "cell_type": "code",
   "execution_count": 9,
   "id": "76d534a8",
   "metadata": {},
   "outputs": [
    {
     "data": {
      "text/plain": [
       "str"
      ]
     },
     "execution_count": 9,
     "metadata": {},
     "output_type": "execute_result"
    }
   ],
   "source": [
    "text = str(42)  # Convert integer 42 to string \"42\"\n",
    "type(text)"
   ]
  },
  {
   "cell_type": "markdown",
   "id": "6172a6f3",
   "metadata": {},
   "source": [
    "### 10. Why does this expression cause an error? How can you fix it?"
   ]
  },
  {
   "cell_type": "code",
   "execution_count": 10,
   "id": "f42fd616",
   "metadata": {},
   "outputs": [
    {
     "ename": "TypeError",
     "evalue": "can only concatenate str (not \"int\") to str",
     "output_type": "error",
     "traceback": [
      "\u001b[0;31m---------------------------------------------------------------------------\u001b[0m",
      "\u001b[0;31mTypeError\u001b[0m                                 Traceback (most recent call last)",
      "\u001b[0;32m/var/folders/6q/pjbsx_896cb6xf0794334hkc0000gn/T/ipykernel_37955/350326322.py\u001b[0m in \u001b[0;36m<module>\u001b[0;34m\u001b[0m\n\u001b[0;32m----> 1\u001b[0;31m \u001b[0;34m'i have eaten'\u001b[0m \u001b[0;34m+\u001b[0m \u001b[0;36m99\u001b[0m \u001b[0;34m+\u001b[0m \u001b[0;34m'Chocolate'\u001b[0m     \u001b[0;31m#this is the wo\u001b[0m\u001b[0;34m\u001b[0m\u001b[0;34m\u001b[0m\u001b[0m\n\u001b[0m",
      "\u001b[0;31mTypeError\u001b[0m: can only concatenate str (not \"int\") to str"
     ]
    }
   ],
   "source": [
    "'i have eaten' + 99 + 'Chocolate'     #this is the wo"
   ]
  },
  {
   "cell_type": "code",
   "execution_count": null,
   "id": "9fc49771",
   "metadata": {},
   "outputs": [],
   "source": []
  }
 ],
 "metadata": {
  "kernelspec": {
   "display_name": "Python 3 (ipykernel)",
   "language": "python",
   "name": "python3"
  },
  "language_info": {
   "codemirror_mode": {
    "name": "ipython",
    "version": 3
   },
   "file_extension": ".py",
   "mimetype": "text/x-python",
   "name": "python",
   "nbconvert_exporter": "python",
   "pygments_lexer": "ipython3",
   "version": "3.9.12"
  }
 },
 "nbformat": 4,
 "nbformat_minor": 5
}
