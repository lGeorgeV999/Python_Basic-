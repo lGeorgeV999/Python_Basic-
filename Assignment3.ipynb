{
 "cells": [
  {
   "cell_type": "markdown",
   "id": "8aef5d79",
   "metadata": {},
   "source": [
    "### Q1. Why are functions advantageous to have in your programs?"
   ]
  },
  {
   "cell_type": "markdown",
   "id": "559ec9b4",
   "metadata": {},
   "source": [
    "Functions are advantageous to have in programs for several reasons:\n",
    "\n",
    "Modularity: Functions allow us to break down our programs into smaller, more manageable chunks of code. This makes our code easier to read, understand, and maintain. We can write a function once and use it in multiple places throughout our program, reducing code duplication and promoting code reuse.\n",
    "\n",
    "Abstraction: Functions allow us to hide complex logic and implementation details behind a simple interface. This makes it easier to use the function, since we don't need to understand how it works internally to use it.\n",
    "\n",
    "Testing: Functions make it easier to test our code. By breaking our program down into smaller functions, we can test each function individually and ensure that it works as expected. This makes it easier to identify and fix bugs.\n",
    "\n",
    "Debugging: Functions make it easier to debug our code. By breaking our program down into smaller functions, we can isolate and fix errors more quickly and easily.\n",
    "\n",
    "Readability: Functions make our code more readable and easier to understand. By giving descriptive names to functions, we can make our code self-documenting, which makes it easier for other developers to understand our code."
   ]
  },
  {
   "cell_type": "markdown",
   "id": "d320e642",
   "metadata": {},
   "source": [
    "### Q2. When does the code in a function run: when it is specified or when it is called?"
   ]
  },
  {
   "cell_type": "code",
   "execution_count": 2,
   "id": "9da46cfe",
   "metadata": {},
   "outputs": [],
   "source": [
    "#The code in a function runs when the function is called, not when it is specified.\n",
    "\n",
    "#When we define a function in Python, we are essentially creating a reusable block of code that we can call multiple\n",
    "#times throughout our program. The code inside the function is not executed until the function is actually called.\n",
    "\n",
    "#Here's an example to illustrate this:\n",
    "\n",
    "def say_hello():\n",
    "    print(\"Hello!\")\n",
    "\n",
    "# Function is defined, but code inside is not executed yet.\n",
    "\n",
    "#say_hello() # This will execute the code inside the function and print \"Hello!\" to the console.\n",
    "#In this example, we define a function called say_hello() that simply prints \"Hello!\" to the console. \n",
    "#However, the code inside the function is not executed until we actually call the function with say_hello()."
   ]
  },
  {
   "cell_type": "markdown",
   "id": "0c82c504",
   "metadata": {},
   "source": [
    "### Q3. What statement creates a function?"
   ]
  },
  {
   "cell_type": "code",
   "execution_count": 4,
   "id": "b263508c",
   "metadata": {},
   "outputs": [],
   "source": [
    "#the basic syntax of a function definition in Python:\n",
    "\n",
    "def function_name(parameters):\n",
    "    \"\"\"\n",
    "    Docstring: This is where you can write a brief description of what the function does.\n",
    "    \"\"\"\n",
    "    # Code block: This is where you write the code that the function will execute.\n",
    "    # It can include any number of statements, including control statements (if/else, loops) and other function calls.\n",
    "    # The code in this block is executed when the function is called.\n",
    "    return [expression] # Optional\n",
    "\n",
    "#The def keyword is followed by the name of the function (function_name), which should be a valid identifier in Python. \n",
    "#The parentheses contain any parameters that the function takes (these are optional), \n",
    "#and the colon indicates the start of the function's code block.\n",
    "\n",
    "#The code block is indented under the function definition and can contain any valid Python code.\n",
    "#This code is executed when the function is called.\n",
    "\n",
    "#Finally, the return statement (which is optional) is used to specify the value that the function should return \n",
    "#when it is called."
   ]
  },
  {
   "cell_type": "markdown",
   "id": "6ad8259b",
   "metadata": {},
   "source": [
    "### Q4. What is the difference between a function and a function call?"
   ]
  },
  {
   "cell_type": "code",
   "execution_count": 5,
   "id": "7daa663a",
   "metadata": {},
   "outputs": [
    {
     "name": "stdout",
     "output_type": "stream",
     "text": [
      "8\n"
     ]
    }
   ],
   "source": [
    "#A function is a block of code that performs a specific task and can be reused throughout a program. \n",
    "#It is defined using the def keyword followed by the function name and any necessary parameters.\n",
    "\n",
    "#A function call, on the other hand, is a request to execute a specific function with specific arguments. \n",
    "#It involves invoking the function by its name, passing in any required parameters (if any), and then executing the code inside the function.\n",
    "\n",
    "#an example to illustrate the difference between a function and a function call:\n",
    "\n",
    "def add_numbers(x, y):\n",
    "    \"\"\"\n",
    "    This function takes two numbers as input and returns their sum.\n",
    "    \"\"\"\n",
    "    return x + y\n",
    "\n",
    "# This is the function definition - it defines a function called add_numbers that takes two parameters and returns their sum.\n",
    "\n",
    "result = add_numbers(3, 5)\n",
    "\n",
    "# This is a function call - it invokes the add_numbers function with arguments 3 and 5, and assigns the result to a variable called result.\n",
    "\n",
    "print(result)\n",
    "\n",
    "# This will output 8, which is the result of adding 3 and 5.\n",
    "#In this example, add_numbers is a function that takes two numbers as input and returns their sum. \n",
    "#We define this function using the def keyword, and then call it with the arguments 3 and 5 using add_numbers(3, 5). \n",
    "#The result of the function call (8) is then assigned to a variable called result, which we print to the console using print(result)."
   ]
  },
  {
   "cell_type": "markdown",
   "id": "afa73095",
   "metadata": {},
   "source": [
    "### Q5. How many global scopes are there in a Python program? How many local scopes?"
   ]
  },
  {
   "cell_type": "markdown",
   "id": "13133a0c",
   "metadata": {},
   "source": [
    "In Python, there is only one global scope per program. This means that any variable defined outside of a function or class definition is part of the global scope and can be accessed from anywhere in the program.\n",
    "\n",
    "Local scopes, on the other hand, are created whenever a function is called. Each function call creates its own local scope, which is separate from the global scope. Variables defined within a function are only accessible within that function's local scope, and are discarded once the function returns.\n",
    "\n",
    "It's worth noting that Python also has non-local scopes, which are created when a function is defined inside another function. In this case, the inner function has access to the variables in the outer function's scope. However, non-local scopes are not considered global scopes."
   ]
  },
  {
   "cell_type": "markdown",
   "id": "32e10dac",
   "metadata": {},
   "source": [
    "### Q6. What happens to variables in a local scope when the function call returns?"
   ]
  },
  {
   "cell_type": "code",
   "execution_count": 20,
   "id": "10133c76",
   "metadata": {},
   "outputs": [
    {
     "name": "stdout",
     "output_type": "stream",
     "text": [
      "Hello\n"
     ]
    },
    {
     "ename": "NameError",
     "evalue": "name 'my_vari' is not defined",
     "output_type": "error",
     "traceback": [
      "\u001b[0;31m---------------------------------------------------------------------------\u001b[0m",
      "\u001b[0;31mNameError\u001b[0m                                 Traceback (most recent call last)",
      "\u001b[0;32m/var/folders/6q/pjbsx_896cb6xf0794334hkc0000gn/T/ipykernel_56108/3561818823.py\u001b[0m in \u001b[0;36m<module>\u001b[0;34m\u001b[0m\n\u001b[1;32m     11\u001b[0m \u001b[0;34m\u001b[0m\u001b[0m\n\u001b[1;32m     12\u001b[0m \u001b[0mmy_func\u001b[0m\u001b[0;34m(\u001b[0m\u001b[0;34m)\u001b[0m\u001b[0;34m\u001b[0m\u001b[0;34m\u001b[0m\u001b[0m\n\u001b[0;32m---> 13\u001b[0;31m \u001b[0mprint\u001b[0m\u001b[0;34m(\u001b[0m\u001b[0mmy_vari\u001b[0m\u001b[0;34m)\u001b[0m\u001b[0;34m\u001b[0m\u001b[0;34m\u001b[0m\u001b[0m\n\u001b[0m\u001b[1;32m     14\u001b[0m \u001b[0;34m\u001b[0m\u001b[0m\n\u001b[1;32m     15\u001b[0m \u001b[0;31m# NameError: name 'my_var' is not defined\u001b[0m\u001b[0;34m\u001b[0m\u001b[0;34m\u001b[0m\u001b[0m\n",
      "\u001b[0;31mNameError\u001b[0m: name 'my_vari' is not defined"
     ]
    }
   ],
   "source": [
    "#In Python, local variables declared within a function are typically allocated on the stack. \n",
    "#Once the function call returns, the function's stack frame is typically removed from the call stack,\n",
    "#the local variables within that frame are destroyed as well.\n",
    "\n",
    "#This means that the local variables cannot be accessed outside of the function they were declared in as they no longer exist in memory. \n",
    "#Attempting to access local variables outside of their function's scope will result in a NameError.\n",
    "\n",
    "def my_func():\n",
    "    my_vari = \"Hello\"\n",
    "    print(my_vari)\n",
    "\n",
    "my_func()\n",
    "print(my_vari) \n",
    "\n",
    "# NameError: name 'my_var' is not defined\n",
    "\n",
    "#In this case, my_var is a local variable declared within the function my_func(). \n",
    "#Once the function finishes executing and its stack frame is destroyed, my_var is no longer accessible. \n",
    "#The attempt to print my_var outside of the function results in a NameError.\n",
    "\n",
    "#It is worth noting that if a local variable contains a mutable object such as a list or dictionary, \n",
    "#then changes made to that object within the function will persist outside of the function's scope. \n",
    "#However, the variable itself is still local to the function and cannot be accessed from outside of the function's scope."
   ]
  },
  {
   "cell_type": "markdown",
   "id": "a4a0b5ea",
   "metadata": {},
   "source": [
    "### Q7. What is the concept of a return value? Is it possible to have a return value in an expression?"
   ]
  },
  {
   "cell_type": "code",
   "execution_count": 21,
   "id": "a9ba5afa",
   "metadata": {},
   "outputs": [
    {
     "name": "stdout",
     "output_type": "stream",
     "text": [
      "25\n",
      "50\n"
     ]
    }
   ],
   "source": [
    "#In Python, a return value is the value that a function or method returns to the caller. W\n",
    "#hen a function is called, it may perform some operations and then return a value back to the caller. \n",
    "#The return statement is used to specify the value that a function should return.\n",
    "\n",
    "#For example, consider the following function that calculates the square of a number:\n",
    "\n",
    "def square(x):\n",
    "    return x * x\n",
    "\n",
    "#In this example, the square() function takes a single argument x and returns the square of x. \n",
    "#When the function is called with an argument, it returns the square of that argument:\n",
    "\n",
    "result = square(5)\n",
    "print(result)  # Output: 25\n",
    "\n",
    "#Here, the square(5) call returns the value 25, which is then assigned to the variable result.\n",
    "\n",
    "#It is possible to have a return value in an expression in Python. \n",
    "#This means that the return value can be used as part of an expression, just like any other value.\n",
    "\n",
    "#For example, consider the following code:\n",
    "\n",
    "def add_numbers(x, y):\n",
    "    return x + y\n",
    "\n",
    "result = add_numbers(2, 3) * 10\n",
    "\n",
    "print(result)  # Output: 50\n",
    "\n",
    "#In this example, the add_numbers() function returns the sum of two numbers x and y.\n",
    "#When the function is called with arguments 2 and 3, it returns the value 5. \n",
    "#This value is then used as part of an expression that multiplies it by 10 to produce the final result of 50.\n",
    "\n",
    "#So, to sum up, a return value is the value that a function returns to the caller, and it can be used as part of an expression in Python."
   ]
  },
  {
   "cell_type": "markdown",
   "id": "c3a0d8aa",
   "metadata": {},
   "source": [
    "### Q8. If a function does not have a return statement, what is the return value of a call to that function?"
   ]
  },
  {
   "cell_type": "code",
   "execution_count": 22,
   "id": "081f6db1",
   "metadata": {},
   "outputs": [
    {
     "name": "stdout",
     "output_type": "stream",
     "text": [
      "Hello, world!\n",
      "None\n"
     ]
    }
   ],
   "source": [
    "#If a function in Python does not have a return statement, the function implicitly returns None at the end of the function execution. \n",
    "#None is a special built-in object in Python that represents the absence of a value.\n",
    "\n",
    "#For example, consider the following function that prints a message:\n",
    "\n",
    "def print_message():\n",
    "    print(\"Hello, world!\")\n",
    "\n",
    "#This function does not have a return statement. When it is called, it prints the message \"Hello, world!\" \n",
    "#but does not explicitly return any value. If we assign the result of calling this function to a variable and \n",
    "#then print that variable, we get:\n",
    "\n",
    "result = print_message()\n",
    "print(result)  # Output: None\n",
    "\n",
    "#Here, the variable result is assigned the return value of the function print_message(). \n",
    "#Since this function does not have a return statement, it implicitly returns None. \n",
    "#Therefore, the value of result is None.\n",
    "\n",
    "#In Python, it is not mandatory for a function to have a return statement. \n",
    "#Some functions may perform some operations without returning a value, while others may return a value based on their computations. \n",
    "#It is up to the programmer to decide whether a function should have a return statement or not, depending on the requirements of the program."
   ]
  },
  {
   "cell_type": "markdown",
   "id": "95ed8332",
   "metadata": {},
   "source": [
    "### Q9. How do you make a function variable refer to the global variable?"
   ]
  },
  {
   "cell_type": "code",
   "execution_count": 24,
   "id": "e7748cb6",
   "metadata": {},
   "outputs": [
    {
     "name": "stdout",
     "output_type": "stream",
     "text": [
      "Inside the function, x = 5\n",
      "Outside the function, x = 5\n"
     ]
    }
   ],
   "source": [
    "#In Python, a variable declared inside a function is considered to be a local variable and has a local scope, \n",
    "#which means that it is only accessible within the function. By default, a local variable with the same name \n",
    "#as a global variable will shadow the global variable within the function.\n",
    "\n",
    "# you want to make a function variable refer to a global variable instead of creating a new local variable, \n",
    "#you can use the global keyword inside the function. The global keyword is used to indicate that a variable\n",
    "#is a global variable and not a local variable.\n",
    "\n",
    "x = 10\n",
    "\n",
    "def my_function():\n",
    "    global x\n",
    "    x = 5\n",
    "    print(\"Inside the function, x =\", x)\n",
    "\n",
    "my_function()\n",
    "print(\"Outside the function, x =\", x)\n",
    "\n",
    "#In this code, the variable x is declared as a global variable outside of the function my_function(). \n",
    "#Inside the function, the global keyword is used to indicate that the variable x refers to the global variable\n",
    "#declared outside the function. The function then sets the value of x to 5 and prints the value of x.\n",
    "\n",
    "#When the function is called, the output will be:\n",
    "\n",
    "x = 5\n",
    "x = 5\n",
    "\n",
    "#As you can see, the value of x is changed to 5 inside the function and is also changed outside the function, \n",
    "#since it refers to the global variable declared outside the function.\n",
    "\n",
    "#Note that while using the global keyword can be useful in some cases, it is generally not recommended to use it too \n",
    "#often, as it can make it harder to reason about the behavior of your code and can introduce bugs. \n",
    "#It's better to pass variables as arguments to functions and return values from functions rather than relying on \n",
    "#global variables."
   ]
  },
  {
   "cell_type": "markdown",
   "id": "2b025386",
   "metadata": {},
   "source": [
    "### Q10. What is the data type of None?"
   ]
  },
  {
   "cell_type": "code",
   "execution_count": 25,
   "id": "0f131985",
   "metadata": {},
   "outputs": [
    {
     "name": "stdout",
     "output_type": "stream",
     "text": [
      "<class 'NoneType'>\n"
     ]
    }
   ],
   "source": [
    "#In Python, None is a special constant that represents the absence of a value.\n",
    "#It is often used to indicate that a variable or expression does not have a value or that a function does not \n",
    "#return a value.\n",
    "\n",
    "#None is considered a data type of its own, called the NoneType data type. \n",
    "#The NoneType data type has only one possible value, which is None. \n",
    "#This value is used to indicate the absence of a value in a variable or expression.\n",
    "\n",
    "#To check the data type of None, you can use the type() function. For example:\n",
    "\n",
    "x = None\n",
    "print(type(x))  # Output: <class 'NoneType'>\n",
    "\n",
    "#In this example, the variable x is assigned the value None, and the type() function is used to check its data type.\n",
    "#The output of the program is <class 'NoneType'>, indicating that None is a value of the NoneType data type.\n",
    "\n"
   ]
  },
  {
   "cell_type": "markdown",
   "id": "9b8abe81",
   "metadata": {},
   "source": [
    "### Q11. What does the sentence import areallyourpetsnamederic do?"
   ]
  },
  {
   "cell_type": "markdown",
   "id": "93cc1db1",
   "metadata": {},
   "source": [
    "The sentence import areallyourpetsnamederic is not a valid Python module, so if you were to run this line of code in a Python program, it would result in a ModuleNotFoundError with the message \"No module named 'areallyourpetsnamederic'\".\n",
    "\n",
    "In Python, the import statement is used to import modules, which are files containing Python code that can be reused in different programs. When you import a module, Python looks for the module in its search path and loads its code into memory so that you can use the functions, classes, and variables defined in the module in your program.\n",
    "\n",
    "However, if you try to import a module that does not exist, Python will raise an error because it cannot find the specified module.\n",
    "\n",
    "Therefore, the sentence import areallyourpetsnamederic does not do anything useful in Python and will only result in an error."
   ]
  },
  {
   "cell_type": "markdown",
   "id": "a920b5ed",
   "metadata": {},
   "source": [
    "### Q12. If you had a bacon() feature in a spam module, what would you call it after importing spam?"
   ]
  },
  {
   "cell_type": "markdown",
   "id": "7e532c0e",
   "metadata": {},
   "source": [
    "This function can be called with spam.bacon()."
   ]
  },
  {
   "cell_type": "markdown",
   "id": "fed2563e",
   "metadata": {},
   "source": [
    "### Q13. What can you do to save a programme from crashing if it encounters an error?"
   ]
  },
  {
   "cell_type": "markdown",
   "id": "1cc8dda1",
   "metadata": {},
   "source": [
    "Place the line of code that might cause an error in a try clause.\n",
    "\n"
   ]
  },
  {
   "cell_type": "markdown",
   "id": "16de8906",
   "metadata": {},
   "source": [
    "#### Q14. What is the purpose of the try clause? What is the purpose of the except clause?"
   ]
  },
  {
   "cell_type": "code",
   "execution_count": 1,
   "id": "45bd1fee",
   "metadata": {},
   "outputs": [
    {
     "name": "stdout",
     "output_type": "stream",
     "text": [
      "Cannot divide by zero!\n"
     ]
    }
   ],
   "source": [
    "#The try and except clauses are used in Python to implement error handling, \n",
    "#which allows you to catch and handle exceptions that might occur during program execution.\n",
    "\n",
    "#The try clause is used to enclose the code that might raise an exception. \n",
    "#If an exception occurs within the try block, control is transferred to the except block.\n",
    "\n",
    "#The purpose of the try clause is to execute a block of code and detect any exceptions that might occur during \n",
    "#its execution. The try block is followed by one or more except clauses, \n",
    "#which define how to handle specific exceptions that might be raised during execution of the try block.\n",
    "\n",
    "#The purpose of the except clause is to catch and handle exceptions that might be raised during execution of the try \n",
    "#block. An except clause can specify the type of exception to catch and provide code to handle the exception.\n",
    "\n",
    "#Here is an example that illustrates the use of try and except clauses:\n",
    "\n",
    "try:\n",
    "    # Code that might raise an exception\n",
    "    result = 10 / 0\n",
    "except ZeroDivisionError:\n",
    "    # Code to handle the exception\n",
    "    print(\"Cannot divide by zero!\")\n",
    "#In this example, the try block contains code that divides the number 10 by zero, \n",
    "#which will raise a ZeroDivisionError. The except clause catches this specific type of exception and \n",
    "#prints a message to the console.\n",
    "\n",
    "#By using try and except clauses, you can make your code more resilient to errors and prevent your program \n",
    "#from crashing when unexpected errors occur."
   ]
  },
  {
   "cell_type": "code",
   "execution_count": null,
   "id": "99f39493",
   "metadata": {},
   "outputs": [],
   "source": []
  }
 ],
 "metadata": {
  "kernelspec": {
   "display_name": "Python 3 (ipykernel)",
   "language": "python",
   "name": "python3"
  },
  "language_info": {
   "codemirror_mode": {
    "name": "ipython",
    "version": 3
   },
   "file_extension": ".py",
   "mimetype": "text/x-python",
   "name": "python",
   "nbconvert_exporter": "python",
   "pygments_lexer": "ipython3",
   "version": "3.9.12"
  }
 },
 "nbformat": 4,
 "nbformat_minor": 5
}
