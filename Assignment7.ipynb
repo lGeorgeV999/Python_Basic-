{
 "cells": [
  {
   "cell_type": "markdown",
   "id": "df1a76c7",
   "metadata": {},
   "source": [
    "#### Q1. What is the name of the feature responsible for generating Regex objects?"
   ]
  },
  {
   "cell_type": "markdown",
   "id": "14be4e2e",
   "metadata": {},
   "source": [
    "The name of the feature responsible for generating Regex objects is re.compile() function which returns Regex objects."
   ]
  },
  {
   "cell_type": "markdown",
   "id": "7ae5afea",
   "metadata": {},
   "source": [
    "#### Q2.Why do raw strings often appear in Regex objects?"
   ]
  },
  {
   "cell_type": "markdown",
   "id": "dcfb837f",
   "metadata": {},
   "source": [
    "Raw strings are used so that backslashes do not have to be escaped.\n",
    "\n"
   ]
  },
  {
   "cell_type": "markdown",
   "id": "2dddb538",
   "metadata": {},
   "source": [
    "#### Q3. What is the return value of the search() method?\n",
    "\n"
   ]
  },
  {
   "cell_type": "markdown",
   "id": "304f7873",
   "metadata": {},
   "source": [
    "The return value of the search() method is that it returns Match objects.The search() function searches the string for a match, and returns a Match object if there is a match."
   ]
  },
  {
   "cell_type": "code",
   "execution_count": 1,
   "id": "47ba9b45",
   "metadata": {},
   "outputs": [
    {
     "name": "stdout",
     "output_type": "stream",
     "text": [
      "The first i character is located in position: 2\n"
     ]
    },
    {
     "data": {
      "text/plain": [
       "re.Match"
      ]
     },
     "execution_count": 1,
     "metadata": {},
     "output_type": "execute_result"
    }
   ],
   "source": [
    "import re\n",
    "\n",
    "data = \"This is iNeuron Full Stack Data Science Class\"\n",
    "x = re.search(\"i\", data)\n",
    "\n",
    "print(\"The first i character is located in position:\", x.start()) \n",
    "type(x)"
   ]
  },
  {
   "cell_type": "markdown",
   "id": "b8035be2",
   "metadata": {},
   "source": [
    "#### Q4. From a Match item, how do you get the actual strings that match the pattern?\n",
    "\n"
   ]
  },
  {
   "cell_type": "markdown",
   "id": "437b9744",
   "metadata": {},
   "source": [
    "The group() method returns strings of the matched text.\n",
    "\n"
   ]
  },
  {
   "cell_type": "markdown",
   "id": "96ddf339",
   "metadata": {},
   "source": [
    "#### Q5. In the regex which created from the r'(\\d\\d\\d)-(\\d\\d\\d-\\d\\d\\d\\d)', what does group zero cover? Group 2? Group 1?\n",
    "\n"
   ]
  },
  {
   "cell_type": "markdown",
   "id": "d443568c",
   "metadata": {},
   "source": [
    "Group 0 is the entire match, group 1 covers the first set of parentheses, and group 2 covers the second set of parentheses."
   ]
  },
  {
   "cell_type": "markdown",
   "id": "e13354fa",
   "metadata": {},
   "source": [
    "#### Q6. In standard expression syntax, parentheses and intervals have distinct meanings. How can you tell a regex that you want it to fit real parentheses and periods?"
   ]
  },
  {
   "cell_type": "markdown",
   "id": "e9f07050",
   "metadata": {},
   "source": [
    "Periods and parentheses can be escaped with a backslash: \\\n",
    "\n"
   ]
  },
  {
   "cell_type": "markdown",
   "id": "95b6ca20",
   "metadata": {},
   "source": [
    "#### Q7.The findall() method returns a string list or a list of string tuples. What causes it to return one of the two options?\n",
    "\n"
   ]
  },
  {
   "cell_type": "markdown",
   "id": "9d55429f",
   "metadata": {},
   "source": [
    "If the regex has no groups, a list of strings is returned. If the regex has groups, a list of tuples of strings is returned.\n",
    "\n"
   ]
  },
  {
   "cell_type": "markdown",
   "id": "ab01d1fb",
   "metadata": {},
   "source": [
    "#### Q8. In standard expressions, what does the | character mean?\n",
    "\n"
   ]
  },
  {
   "cell_type": "markdown",
   "id": "2444dac0",
   "metadata": {},
   "source": [
    "The | character signifies matching \"either, or\" between two groups.\n",
    "\n"
   ]
  },
  {
   "cell_type": "markdown",
   "id": "8a88a196",
   "metadata": {},
   "source": [
    "#### Q9. What two things does the ? character signify in regular expressions?\n",
    "\n"
   ]
  },
  {
   "cell_type": "markdown",
   "id": "54b52d33",
   "metadata": {},
   "source": [
    "The ? character can either mean \"match zero or one of the preceding group\" or be used to signify nongreedy matching.\n",
    "\n"
   ]
  },
  {
   "cell_type": "markdown",
   "id": "cd171c19",
   "metadata": {},
   "source": [
    "#### Q10. In regular expressions, what is the difference between the + and * characters?\n",
    "\n"
   ]
  },
  {
   "cell_type": "markdown",
   "id": "b0e2e9c0",
   "metadata": {},
   "source": [
    "The + matches one or more. The * matches zero or more.\n",
    "\n"
   ]
  },
  {
   "cell_type": "markdown",
   "id": "992fb4f5",
   "metadata": {},
   "source": [
    "#### Q11. What is the difference between {4} and {4,5} in regular expression?\n",
    "\n",
    " "
   ]
  },
  {
   "cell_type": "markdown",
   "id": "0bcf45d2",
   "metadata": {},
   "source": [
    "The {4} matches exactly three instances of the preceding group. The {4,5} matches between four and five instances.\n",
    "\n"
   ]
  },
  {
   "cell_type": "markdown",
   "id": "30eaea73",
   "metadata": {},
   "source": [
    "#### Q12. What do you mean by the \\d, \\w, and \\s shorthand character classes signify in regular expressions?\n",
    "\n"
   ]
  },
  {
   "cell_type": "markdown",
   "id": "88ae4599",
   "metadata": {},
   "source": [
    "The \\d, \\w, and \\s shorthand character classes match a single digit, word, or space character, respectively.\n",
    "\n"
   ]
  },
  {
   "cell_type": "markdown",
   "id": "f0bf29a4",
   "metadata": {},
   "source": [
    "#### Q13. What do means by \\D, \\W, and \\S shorthand character classes signify in regular expressions?\n",
    "\n"
   ]
  },
  {
   "cell_type": "markdown",
   "id": "e5e82f49",
   "metadata": {},
   "source": [
    "The \\D, \\W, and \\S shorthand character classes match a single character that is not a digit, word, or space character, respectively."
   ]
  },
  {
   "cell_type": "markdown",
   "id": "73a570df",
   "metadata": {},
   "source": [
    "#### Q14. What is the difference between .* and .*??\n",
    "\n"
   ]
  },
  {
   "cell_type": "markdown",
   "id": "b04a77c3",
   "metadata": {},
   "source": [
    "The .* performs a greedy match, and the .*? performs a nongreedy match.\n",
    "\n"
   ]
  },
  {
   "cell_type": "markdown",
   "id": "b65aee9b",
   "metadata": {},
   "source": [
    "#### Q15. What is the syntax for matching both numbers and lowercase letters with a character class?\n",
    "\n"
   ]
  },
  {
   "cell_type": "markdown",
   "id": "ac9a2d55",
   "metadata": {},
   "source": [
    "Either [0-9a-z] or [a-z0-9]\n",
    "\n"
   ]
  },
  {
   "cell_type": "markdown",
   "id": "d86ec2c5",
   "metadata": {},
   "source": [
    "#### Q16. What is the procedure for making a normal expression in regex case insensitive?"
   ]
  },
  {
   "cell_type": "markdown",
   "id": "843a3d60",
   "metadata": {},
   "source": [
    "Passing re.I or re.IGNORECASE as the second argument to re.compile() will make the matching case insensitive."
   ]
  },
  {
   "cell_type": "markdown",
   "id": "01c73453",
   "metadata": {},
   "source": [
    "#### Q17. What does the . character normally match? What does it match if re.DOTALL is passed as 2nd argument in re.compile()?"
   ]
  },
  {
   "cell_type": "markdown",
   "id": "db06819b",
   "metadata": {},
   "source": [
    "The . character normally matches any character except the newline character. If re.DOTALL is passed as the second argument to re.compile(), then the dot will also match newline characters.\n"
   ]
  },
  {
   "cell_type": "markdown",
   "id": "4a45a0fe",
   "metadata": {},
   "source": [
    "#### Q18. If numRegex = re.compile(r'\\d+'), what will numRegex.sub('X', '11 drummers, 10 pipers, five rings, 4 hen') return?"
   ]
  },
  {
   "cell_type": "code",
   "execution_count": 3,
   "id": "f37b4a5c",
   "metadata": {},
   "outputs": [
    {
     "data": {
      "text/plain": [
       "'X drummers, X pipers, five rings, X hen'"
      ]
     },
     "execution_count": 3,
     "metadata": {},
     "output_type": "execute_result"
    }
   ],
   "source": [
    "import re\n",
    "numRegex = re.compile(r'\\d+')\n",
    "numRegex.sub('X', '11 drummers, 10 pipers, five rings, 4 hen')\n",
    "'X drummers, X pipers, five rings, X hen'"
   ]
  },
  {
   "cell_type": "markdown",
   "id": "6a1f09f6",
   "metadata": {},
   "source": [
    "#### Q19. What does passing re.VERBOSE as the 2nd argument to re.compile() allow to do?"
   ]
  },
  {
   "cell_type": "markdown",
   "id": "4d45cbca",
   "metadata": {},
   "source": [
    "The re.VERBOSE argument allows you to add whitespace and comments to the string passed to re.compile()."
   ]
  },
  {
   "cell_type": "markdown",
   "id": "9fcaee5f",
   "metadata": {},
   "source": [
    "#### Q20. How would you write a regex that match a number with comma for every three digits? It must match the given following:\n"
   ]
  },
  {
   "cell_type": "code",
   "execution_count": 6,
   "id": "833097f8",
   "metadata": {},
   "outputs": [
    {
     "data": {
      "text/plain": [
       "'1234'"
      ]
     },
     "execution_count": 6,
     "metadata": {},
     "output_type": "execute_result"
    }
   ],
   "source": [
    "'42'\n",
    "'1,234'\n",
    "'6,368,745'\n",
    "#but not the following:\n",
    "'12,34,567' #(which has only two digits between the commas)\n",
    "'1234' #(which lacks commas)\n",
    "\n"
   ]
  },
  {
   "cell_type": "markdown",
   "id": "08745a94",
   "metadata": {},
   "source": [
    "re.compile(r'^\\d{1,3}(,\\d{3})*$') will create this regex, but other regex strings can produce a similar regular expression.\n",
    "\n"
   ]
  },
  {
   "cell_type": "markdown",
   "id": "669de176",
   "metadata": {},
   "source": [
    "\n",
    "#### Q21. How would you write a regex that matches the full name of someone whose last name is Watanabe? You can assume that the first name that comes before it will always be one word that begins with a capital letter. The regex must match the following:\n",
    "\n",
    "'Haruto Watanabe'\n",
    "\n",
    "'Alice Watanabe'\n",
    "\n",
    "'RoboCop Watanabe'\n",
    "\n",
    "but not the following:\n",
    "\n",
    "'haruto Watanabe' (where the first name is not capitalized)\n",
    "\n",
    "'Mr. Watanabe' (where the preceding word has a nonletter character)\n",
    "\n",
    "'Watanabe' (which has no first name)\n",
    "\n",
    "'Haruto watanabe' (where Watanabe is not capitalized)\n",
    "\n",
    "\n"
   ]
  },
  {
   "cell_type": "markdown",
   "id": "d624d9cc",
   "metadata": {},
   "source": [
    "re.compile(r'[A-Z][a-z]*\\sNakamoto')"
   ]
  },
  {
   "cell_type": "markdown",
   "id": "2f41195f",
   "metadata": {},
   "source": [
    "#### Q22. How would you write a regex that matches a sentence where the first word is either Alice, Bob, or Carol; the second word is either eats, pets, or throws; the third word is apples, cats, or baseballs; and the sentence ends with a period? This regex should be case-insensitive. It must match the following:\n",
    "\n",
    "'Alice eats apples.'\n",
    "\n",
    "'Bob pets cats.'\n",
    "\n",
    "'Carol throws baseballs.'\n",
    "\n",
    "'Alice throws Apples.'\n",
    "\n",
    "'BOB EATS CATS.'\n",
    "\n",
    "but not the following:\n",
    "\n",
    "'RoboCop eats apples.'\n",
    "\n",
    "'ALICE THROWS FOOTBALLS.'\n",
    "\n",
    "'Carol eats 7 cats.'\n"
   ]
  },
  {
   "cell_type": "code",
   "execution_count": 7,
   "id": "e08063f7",
   "metadata": {},
   "outputs": [
    {
     "data": {
      "text/plain": [
       "re.compile(r'(Alice|Bob|Carol)\\s(eats|pets|throws)\\s(apples|cats|baseballs).',\n",
       "re.IGNORECASE|re.UNICODE)"
      ]
     },
     "execution_count": 7,
     "metadata": {},
     "output_type": "execute_result"
    }
   ],
   "source": [
    "re.compile(r'(Alice|Bob|Carol)\\s(eats|pets|throws)\\s(apples|cats|baseballs).', re.IGNORECASE)"
   ]
  },
  {
   "cell_type": "code",
   "execution_count": null,
   "id": "7c25776e",
   "metadata": {},
   "outputs": [],
   "source": []
  }
 ],
 "metadata": {
  "kernelspec": {
   "display_name": "Python 3 (ipykernel)",
   "language": "python",
   "name": "python3"
  },
  "language_info": {
   "codemirror_mode": {
    "name": "ipython",
    "version": 3
   },
   "file_extension": ".py",
   "mimetype": "text/x-python",
   "name": "python",
   "nbconvert_exporter": "python",
   "pygments_lexer": "ipython3",
   "version": "3.9.12"
  }
 },
 "nbformat": 4,
 "nbformat_minor": 5
}
