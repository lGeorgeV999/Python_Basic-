{
 "cells": [
  {
   "cell_type": "markdown",
   "id": "e8e19746",
   "metadata": {},
   "source": [
    "### Q1. Add the current date to the text file today.txt as a string."
   ]
  },
  {
   "cell_type": "code",
   "execution_count": 2,
   "id": "3cc4097a",
   "metadata": {},
   "outputs": [],
   "source": [
    "from datetime import date\n",
    "\n",
    "# Get the current date\n",
    "current_date = date.today()\n",
    "\n",
    "# Convert the date to a string\n",
    "date_string = str(current_date)\n",
    "\n",
    "# Write the date to the file\n",
    "with open('today.txt', 'w') as file:\n",
    "    file.write(date_string)"
   ]
  },
  {
   "cell_type": "markdown",
   "id": "be97d425",
   "metadata": {},
   "source": [
    "### Q2. Read the text file today.txt into the string today_string"
   ]
  },
  {
   "cell_type": "code",
   "execution_count": 3,
   "id": "db627c57",
   "metadata": {},
   "outputs": [
    {
     "data": {
      "text/plain": [
       "'2023-05-18'"
      ]
     },
     "execution_count": 3,
     "metadata": {},
     "output_type": "execute_result"
    }
   ],
   "source": [
    "with open('today.txt', 'rt') as input:\n",
    "    today_string = input.read()\n",
    "    \n",
    "today_string"
   ]
  },
  {
   "cell_type": "markdown",
   "id": "1abdecd0",
   "metadata": {},
   "source": [
    "### Q3. Parse the date from today_string."
   ]
  },
  {
   "cell_type": "code",
   "execution_count": 5,
   "id": "82c50442",
   "metadata": {},
   "outputs": [
    {
     "name": "stdout",
     "output_type": "stream",
     "text": [
      "2023-05-18\n"
     ]
    }
   ],
   "source": [
    "from datetime import datetime\n",
    "\n",
    "# Read the date string from the file\n",
    "with open('today.txt', 'r') as file:\n",
    "    today_string = file.read()\n",
    "\n",
    "# Parse the date from the string\n",
    "parsed_date = datetime.strptime(today_string, '%Y-%m-%d').date()\n",
    "\n",
    "# Print the parsed date\n",
    "print(parsed_date)\n"
   ]
  },
  {
   "cell_type": "markdown",
   "id": "b61c8200",
   "metadata": {},
   "source": [
    "### Q4. List the files in your current directory\n",
    "\n"
   ]
  },
  {
   "cell_type": "code",
   "execution_count": 6,
   "id": "0be5eccb",
   "metadata": {},
   "outputs": [
    {
     "name": "stdout",
     "output_type": "stream",
     "text": [
      "linear regression.html\n",
      "720_MySLR.pdf\n",
      "BlackHole16ch.v0.4.0.pkg\n",
      "4_Weather_Analysis.docx\n",
      "shredder-machine.zip\n",
      "OpenCV.docx\n",
      "ml book2.csv\n",
      "SOFTCOMPUTING_Unit I.pptx.pdf\n",
      "732_Saksham Shetkar_(Matrix_Multiplication).docx\n",
      "12.Years.A.Slave.2013.720p.Bluray.900MB.mkv\n",
      "720_Polynomial_Regression.pdf\n",
      "mysql-8.0.31-macos12-x86_64.dmg\n",
      "9_Mongodb.docx\n",
      "sc(1).pdf\n",
      "Mrs._Chatterjee_Vs_Norway_(2023)_Hindi_720p_HEVC_H.mkv\n",
      "Expenditure distributor Management Tool Mobile App.pdf\n",
      "soft computing .pdf\n",
      "Mastering Cloud Computing.pdf\n",
      "wtgroup - wtgroup.csv\n",
      "WhatsApp Image 2023-04-03 at 10.45.47 AM.jpeg\n",
      ".DS_Store\n",
      "5_Matrix_Multiplication.docx\n",
      "747_Ankita_Feature Selection.ipynb\n",
      "Assignment.20.ipynb\n",
      "Simple_linear_regression.pdf\n",
      "Feature Selection - Jupyter Notebook.pdf\n",
      "PCA_CR.pdf\n",
      "~$2_Amandeep Verma(sem-3) (1).docx\n",
      "Big Data Masters Material.zip\n",
      ".localized\n",
      "SC_Notes.pdf\n",
      "iqr - Jupyter Notebook.pdf\n",
      "Simple linear regression .ipynb\n",
      "Store Data Analysis.xlsx\n",
      "today.txt\n",
      "messages - messages.csv\n",
      "weekly-account-statement_JJ7245.pdf\n",
      "KNN.pdf\n",
      "DocScanner 10-Apr-2023 9-48 pm.pdf\n",
      "702_LIJU_GEORGE_V.docx\n",
      "outlier detection .ipynb\n",
      "Gradient Descent.pdf\n",
      "Soft computing.docx\n",
      "AXBPV4243N_23032000593391ICIC_DTAX_20032023_TaxPayer.pdf\n",
      "Decision Tree.pdf\n",
      "cloud computing QB (1).pdf\n",
      "1674700461138.pdf\n",
      "24 (1).pdf\n",
      "Evaluation_Assessment_LIJU GEORGE Varughese.pdf\n",
      "placement.csv\n",
      "710_PCA.pdf\n",
      "Assignment.21.ipynb\n",
      "microsoft excel and business data anlyics.pdf\n",
      "Moving Averages.pdf\n",
      "21st Jan FSDSbootcamp(deep-learning-main).zip\n",
      "Machine learning 1.ipynb\n",
      "Feature Scaling (Normalization Min Max Scaling) - Jupyter Notebook.pdf\n",
      "8_HBase.docx\n",
      "expenses_project\n",
      "Logistic_Regression.pdf\n",
      "shredder-machine\n",
      "10_Impala.docx\n",
      "Career Transition Handbook.pdf\n",
      "Soft computing.pdf\n",
      "GAL_BillSummaryOtherProducts_CLMG_2023_171127_1189052_1672386584334.pdf\n",
      "WhatsApp Image 2023-04-03 at 10.45.48 AM.jpeg\n",
      "expenses_project.zip\n",
      "Simple linear regression .html\n",
      "AutoRegression.pdf\n",
      "DSAI ELECTIVE SUBJECT MARKS.xlsx\n",
      "732_Prac_2_Saksham_CloudComputing.pdf\n",
      "SC-main\n",
      "Machine Learning.pdf\n",
      "sensor-fault-detection-main\n",
      "ML_Question_Bank.pdf\n",
      "sensor-fault-detection-main.zip\n",
      "softmax_regression.pdf\n",
      "1190964.pdf\n",
      "ML unit 4 remaining.pdf\n",
      "3_CharCount.docx\n",
      ".ipynb_checkpoints\n",
      "~$_Data Science_Theory_QuestionBank (1).docx\n",
      "Naive bayes classifier.pdf\n",
      "6_Hive.docx\n",
      "Big Data Masters Material\n",
      "TB04_soft-computing-ebook.pdf\n",
      "feature engineer .ipynb\n",
      "Eigen Vector .ipynb\n",
      "1_Basic_Commands.docx\n",
      "Feature Selection describe.ipynb\n",
      "practical_6a.pdf\n",
      "deep-learning-main 2\n",
      "cc.pdf\n",
      "feature_selection!.ipynb\n",
      "720_Feature Selection - Jupyter Notebook.pdf\n",
      "M.SC. DSAI PART-1.xlsx\n",
      "~$ice Assistants.docx\n",
      "1674655516828.pdf\n",
      "2_WordCount.docx\n",
      "Data Analytics with Hadoop - An Introduction for Data Scientists.pdf\n",
      "Data conversion.pdf\n",
      "cloud computing QB.pdf\n",
      "ANKPG6623J_23032100076281ICIC_DTAX_21032023_TaxPayer.pdf\n",
      "Tableau Datasets\n"
     ]
    }
   ],
   "source": [
    "import os\n",
    "\n",
    "# Get the current directory\n",
    "current_directory = os.getcwd()\n",
    "\n",
    "# List files in the current directory\n",
    "files = os.listdir(current_directory)\n",
    "\n",
    "# Print the list of files\n",
    "for file in files:\n",
    "    print(file)"
   ]
  },
  {
   "cell_type": "markdown",
   "id": "07a526e1",
   "metadata": {},
   "source": [
    "### Q5. Use multiprocessing to create three separate processes. Make each one wait a random number of seconds between one and five, print the current time, and then exit."
   ]
  },
  {
   "cell_type": "code",
   "execution_count": 7,
   "id": "d4dbbae5",
   "metadata": {},
   "outputs": [
    {
     "name": "stdout",
     "output_type": "stream",
     "text": [
      "python: can't open file '/Users/apple/Downloads/multi_process.py': [Errno 2] No such file or directory\r\n"
     ]
    }
   ],
   "source": [
    "!python multi_process.py"
   ]
  },
  {
   "cell_type": "markdown",
   "id": "2fb97e38",
   "metadata": {},
   "source": [
    "### Q6. Create a date object of your day of birth."
   ]
  },
  {
   "cell_type": "code",
   "execution_count": 8,
   "id": "d68ffd7f",
   "metadata": {},
   "outputs": [
    {
     "data": {
      "text/plain": [
       "datetime.date(1997, 4, 6)"
      ]
     },
     "execution_count": 8,
     "metadata": {},
     "output_type": "execute_result"
    }
   ],
   "source": [
    "my_day = date(1997, 4, 6)\n",
    "my_day"
   ]
  },
  {
   "cell_type": "markdown",
   "id": "ba454fa8",
   "metadata": {},
   "source": [
    "### Q7. What day of the week was your day of birth?"
   ]
  },
  {
   "cell_type": "markdown",
   "id": "ef62d963",
   "metadata": {},
   "source": [
    "With weekday(), Monday is 0 and Sunday is 6. With isoweekday(), Monday is 1 and Sunday is 7. Therefore, this date is a Saturday.\n",
    "\n"
   ]
  },
  {
   "cell_type": "code",
   "execution_count": 9,
   "id": "6ace12c2",
   "metadata": {},
   "outputs": [
    {
     "data": {
      "text/plain": [
       "6"
      ]
     },
     "execution_count": 9,
     "metadata": {},
     "output_type": "execute_result"
    }
   ],
   "source": [
    "my_day.weekday()"
   ]
  },
  {
   "cell_type": "code",
   "execution_count": 10,
   "id": "b1dc448d",
   "metadata": {},
   "outputs": [
    {
     "data": {
      "text/plain": [
       "7"
      ]
     },
     "execution_count": 10,
     "metadata": {},
     "output_type": "execute_result"
    }
   ],
   "source": [
    "my_day.isoweekday()\n"
   ]
  },
  {
   "cell_type": "markdown",
   "id": "a3466806",
   "metadata": {},
   "source": [
    "### Q8. When will you be (or when were you) 10,000 days old?\n",
    "\n"
   ]
  },
  {
   "cell_type": "code",
   "execution_count": 11,
   "id": "1cf674d9",
   "metadata": {},
   "outputs": [
    {
     "data": {
      "text/plain": [
       "datetime.date(2024, 8, 22)"
      ]
     },
     "execution_count": 11,
     "metadata": {},
     "output_type": "execute_result"
    }
   ],
   "source": [
    "from datetime import timedelta\n",
    "ten_thousand = my_day + timedelta(days=10000)\n",
    "ten_thousand"
   ]
  },
  {
   "cell_type": "code",
   "execution_count": null,
   "id": "8014d8ce",
   "metadata": {},
   "outputs": [],
   "source": []
  },
  {
   "cell_type": "code",
   "execution_count": null,
   "id": "f10a3c3a",
   "metadata": {},
   "outputs": [],
   "source": []
  }
 ],
 "metadata": {
  "kernelspec": {
   "display_name": "Python 3 (ipykernel)",
   "language": "python",
   "name": "python3"
  },
  "language_info": {
   "codemirror_mode": {
    "name": "ipython",
    "version": 3
   },
   "file_extension": ".py",
   "mimetype": "text/x-python",
   "name": "python",
   "nbconvert_exporter": "python",
   "pygments_lexer": "ipython3",
   "version": "3.9.12"
  }
 },
 "nbformat": 4,
 "nbformat_minor": 5
}
